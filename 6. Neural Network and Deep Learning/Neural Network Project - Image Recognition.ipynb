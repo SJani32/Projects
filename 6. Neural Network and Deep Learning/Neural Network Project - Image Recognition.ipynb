{
 "cells": [
  {
   "cell_type": "markdown",
   "metadata": {
    "id": "3TflokK1cuE9"
   },
   "source": [
    "# Neural Networks - Project"
   ]
  },
  {
   "cell_type": "markdown",
   "metadata": {
    "id": "uhEWVnPQODu5"
   },
   "source": [
    "# Image Recognition using Neural Network"
   ]
  },
  {
   "cell_type": "markdown",
   "metadata": {
    "id": "XFEQeUmCOOpj"
   },
   "source": [
    "### 1. Data Import and Exploration [5 Marks]"
   ]
  },
  {
   "cell_type": "markdown",
   "metadata": {
    "id": "ki29q0U5OR2w"
   },
   "source": [
    "#### 1A. Read the .h5 file and assign to a variable. [2 Marks]"
   ]
  },
  {
   "cell_type": "code",
   "execution_count": 2,
   "metadata": {
    "executionInfo": {
     "elapsed": 7,
     "status": "ok",
     "timestamp": 1680887674500,
     "user": {
      "displayName": "Smit Jani",
      "userId": "09792803432614869044"
     },
     "user_tz": -330
    },
    "id": "hbvgCW_BOKVm"
   },
   "outputs": [],
   "source": [
    "#Reading the file & assigning it to a variable\n",
    "f = h5py.File('/content/drive/MyDrive/Python - Collab/11. Module-8_Intro to Neural Networks & Deep Learning/Neural Networks - Project/Autonomous_Vehicles_SVHN_single_grey1.h5', 'r+')"
   ]
  },
  {
   "cell_type": "markdown",
   "metadata": {
    "id": "eevPIQ-kaDl5"
   },
   "source": [
    "#### 1B. Print all the keys from the .h5 file. [1 Marks]"
   ]
  },
  {
   "cell_type": "code",
   "execution_count": 3,
   "metadata": {
    "colab": {
     "base_uri": "https://localhost:8080/"
    },
    "executionInfo": {
     "elapsed": 7,
     "status": "ok",
     "timestamp": 1680887674500,
     "user": {
      "displayName": "Smit Jani",
      "userId": "09792803432614869044"
     },
     "user_tz": -330
    },
    "id": "O06It7c0aHEW",
    "outputId": "0b163844-1ae9-4f7b-873c-e3f7441be9cf"
   },
   "outputs": [
    {
     "name": "stdout",
     "output_type": "stream",
     "text": [
      "X_test\n",
      "X_train\n",
      "X_val\n",
      "y_test\n",
      "y_train\n",
      "y_val\n"
     ]
    }
   ],
   "source": [
    "#Printing all the key from the file\n",
    "for key in f.keys():\n",
    "  print(key)"
   ]
  },
  {
   "cell_type": "markdown",
   "metadata": {
    "id": "za88xoyJaWW7"
   },
   "source": [
    "#### 1C. Split the data into X_train, X_test, Y_train, Y_test [2 Marks]"
   ]
  },
  {
   "cell_type": "code",
   "execution_count": 4,
   "metadata": {
    "executionInfo": {
     "elapsed": 1099,
     "status": "ok",
     "timestamp": 1680887675594,
     "user": {
      "displayName": "Smit Jani",
      "userId": "09792803432614869044"
     },
     "user_tz": -330
    },
    "id": "J8-0SoTrabID"
   },
   "outputs": [],
   "source": [
    "#Since as per the keys the data set is already splitted into train, validation & test set, we combine train & validation set to be used as\n",
    "#train set.\n",
    "\n",
    "#Initially we read each dataset & convert them to an array\n",
    "x_train = np.array(f['X_train'])\n",
    "x_val = np.array(f['X_val'])\n",
    "x_tes = np.array(f['X_test'])\n",
    "y_train = np.array(f['y_train'])\n",
    "y_val = np.array(f['y_val'])\n",
    "y_tes = np.array(f['y_test'])"
   ]
  },
  {
   "cell_type": "code",
   "execution_count": 5,
   "metadata": {
    "executionInfo": {
     "elapsed": 7,
     "status": "ok",
     "timestamp": 1680887675595,
     "user": {
      "displayName": "Smit Jani",
      "userId": "09792803432614869044"
     },
     "user_tz": -330
    },
    "id": "yDpG0cPKa2Xu"
   },
   "outputs": [],
   "source": [
    "#Since we only need to split the dataset into train & test set, we do not need the validation set.\n",
    "# Hence we combine the validation set with training set to increaset the training data.\n",
    "x_tra = np.concatenate((x_train, x_val), axis=0)\n",
    "y_tra = np.concatenate((y_train, y_val), axis=0)"
   ]
  },
  {
   "cell_type": "markdown",
   "metadata": {
    "id": "t4AlDAHVbskY"
   },
   "source": [
    "- Now our data is available into 4 sets: x_tra, x_tes, y_tra & y_tes"
   ]
  },
  {
   "cell_type": "markdown",
   "metadata": {
    "id": "ZcNdKyKub8Oi"
   },
   "source": [
    "### 2. Data Visualisation and preprocessing [13 Marks]"
   ]
  },
  {
   "cell_type": "markdown",
   "metadata": {
    "id": "4so6VZZ-b-lI"
   },
   "source": [
    "#### 2A. Print shape of all the 4 data split into x, y, train, test to verify if x & y is in sync. [1 Marks]"
   ]
  },
  {
   "cell_type": "code",
   "execution_count": 6,
   "metadata": {
    "colab": {
     "base_uri": "https://localhost:8080/"
    },
    "executionInfo": {
     "elapsed": 1220,
     "status": "ok",
     "timestamp": 1680887676809,
     "user": {
      "displayName": "Smit Jani",
      "userId": "09792803432614869044"
     },
     "user_tz": -330
    },
    "id": "b8a54Aa_bqQr",
    "outputId": "9237c592-3932-4249-8b81-1d5d9a838c6e"
   },
   "outputs": [
    {
     "name": "stdout",
     "output_type": "stream",
     "text": [
      "Shape of X_train: (102000, 32, 32)\n",
      "Shape of X_test: (18000, 32, 32)\n",
      "Shape of Y_train: (102000,)\n",
      "Shape of Y_test: (18000,)\n"
     ]
    }
   ],
   "source": [
    "#Printing the shape of all the 4 data\n",
    "print('Shape of X_train:', x_tra.shape)\n",
    "print('Shape of X_test:', x_tes.shape)\n",
    "print('Shape of Y_train:', y_tra.shape)\n",
    "print('Shape of Y_test:', y_tes.shape)"
   ]
  },
  {
   "cell_type": "code",
   "execution_count": 7,
   "metadata": {
    "colab": {
     "base_uri": "https://localhost:8080/"
    },
    "executionInfo": {
     "elapsed": 16,
     "status": "ok",
     "timestamp": 1680887676810,
     "user": {
      "displayName": "Smit Jani",
      "userId": "09792803432614869044"
     },
     "user_tz": -330
    },
    "id": "M4cVmzIRd_qM",
    "outputId": "8cd32b7c-2aaf-48d9-d03f-6a377e5f0075"
   },
   "outputs": [
    {
     "name": "stdout",
     "output_type": "stream",
     "text": [
      "The distribution ratio for training set: [0.0999 0.0997 0.1    0.1008 0.0999 0.1003 0.0997 0.0999 0.0999 0.1   ]\n",
      "The distribution ratio for testing set: [0.1008 0.1016 0.1002 0.0955 0.1007 0.0982 0.1018 0.1004 0.1007 0.1002]\n"
     ]
    }
   ],
   "source": [
    "#Distribution Ratio\n",
    "unique_tra, frequency_tra = np.unique(y_tra, return_counts=True)\n",
    "print('The distribution ratio for training set:', np.round((frequency_tra/len(y_tra)), 4))\n",
    "\n",
    "unique_tes, frequency_tes = np.unique(y_tes, return_counts=True)\n",
    "print('The distribution ratio for testing set:', np.round((frequency_tes/len(y_tes)), 4))"
   ]
  },
  {
   "cell_type": "markdown",
   "metadata": {
    "id": "optHMgUfdl6s"
   },
   "source": [
    "- From the shape of datasets:\n",
    "  - Training datasets (x_tra & y_tra) are in sync having 102000 data.\n",
    "  - Testing datasets (x_tes & y_tes) are in sync having 18000 data.\n",
    "\n",
    "- Further it can also be noted that the distrubution ratio of the data is maintained in both the training set & testing set. Hence the train & test set are also in sync."
   ]
  },
  {
   "cell_type": "markdown",
   "metadata": {
    "id": "49QlIZhtxWxE"
   },
   "source": [
    "#### 2B. Visualise first 10 images in train data and print its corresponding labels. [4 Marks]"
   ]
  },
  {
   "cell_type": "code",
   "execution_count": 8,
   "metadata": {
    "colab": {
     "base_uri": "https://localhost:8080/",
     "height": 119
    },
    "executionInfo": {
     "elapsed": 15,
     "status": "ok",
     "timestamp": 1680887676810,
     "user": {
      "displayName": "Smit Jani",
      "userId": "09792803432614869044"
     },
     "user_tz": -330
    },
    "id": "no4zJU18dRdI",
    "outputId": "71c6385f-48c7-4fc2-a23f-4c12c1876122"
   },
   "outputs": [
    {
     "data": {
      "image/png": "[encoded data removed]",
      "text/plain": [
       "<Figure size 1000x100 with 10 Axes>"
      ]
     },
     "metadata": {},
     "output_type": "display_data"
    },
    {
     "name": "stdout",
     "output_type": "stream",
     "text": [
      "The corresponding labels of the images above are: [2 6 7 4 4 0 3 0 7 3]\n"
     ]
    }
   ],
   "source": [
    "#Visualizing the first 10 images of the train set & printing the corresponding labels.\n",
    "plt.figure(figsize=(10,1))\n",
    "for i in range(10):\n",
    "  plt.subplot(1, 10, i+1)\n",
    "  plt.imshow(x_tra[i], cmap='gray')\n",
    "  plt.axis('off')\n",
    "plt.show();\n",
    "print('The corresponding labels of the images above are:', y_tra[:10])"
   ]
  },
  {
   "cell_type": "markdown",
   "metadata": {
    "id": "izWtEKjZ1O6n"
   },
   "source": [
    "#### 2C. Reshape all the images with appropriate shape update the data in same variable. [3 Marks]"
   ]
  },
  {
   "cell_type": "code",
   "execution_count": 9,
   "metadata": {
    "colab": {
     "base_uri": "https://localhost:8080/"
    },
    "executionInfo": {
     "elapsed": 12,
     "status": "ok",
     "timestamp": 1680887676811,
     "user": {
      "displayName": "Smit Jani",
      "userId": "09792803432614869044"
     },
     "user_tz": -330
    },
    "id": "T7C4a9-5yMFF",
    "outputId": "779e7f03-20be-4991-d5fb-362a85fae446"
   },
   "outputs": [
    {
     "name": "stdout",
     "output_type": "stream",
     "text": [
      "Updated shape of images - X_train: (102000, 1024)\n",
      "Updated shape of images - X_test: (18000, 1024)\n"
     ]
    }
   ],
   "source": [
    "#Reshaping the images \n",
    "x_tra = x_tra.reshape(x_tra.shape[0], 32*32) #Using the same variable to store reshaped images x_tra\n",
    "x_tes = x_tes.reshape(x_tes.shape[0], 32*32) #Using the same variable to store reshaped images x_tes\n",
    "\n",
    "#Printing the updated shape of images\n",
    "print('Updated shape of images - X_train:', x_tra.shape)\n",
    "print('Updated shape of images - X_test:', x_tes.shape)"
   ]
  },
  {
   "cell_type": "markdown",
   "metadata": {
    "id": "vWNRizc92tBp"
   },
   "source": [
    "#### 2D. Normalise the images i.e. Normalise the pixel values. [2 Marks]"
   ]
  },
  {
   "cell_type": "code",
   "execution_count": 10,
   "metadata": {
    "executionInfo": {
     "elapsed": 9,
     "status": "ok",
     "timestamp": 1680887676811,
     "user": {
      "displayName": "Smit Jani",
      "userId": "09792803432614869044"
     },
     "user_tz": -330
    },
    "id": "l3He2aIN4X12"
   },
   "outputs": [],
   "source": [
    "#Normalizing the images (pixel values)\n",
    "x_tra = x_tra/255.0\n",
    "x_tes = x_tes/255.0"
   ]
  },
  {
   "cell_type": "markdown",
   "metadata": {
    "id": "wXGKEFoi6jJf"
   },
   "source": [
    "#### 2E. Transform Labels into format acceptable by Neural Network [2 Marks]"
   ]
  },
  {
   "cell_type": "markdown",
   "metadata": {
    "id": "mVkZoW8rFW9D"
   },
   "source": [
    "- Since our labels are already in form of integers, we need not transform them into any other format.\n",
    "- The data used in digits directly using Saprse Categorical Cross-entropy is much faster then converting them into vector & using Categorical Cross-entropy since the model has to deal only with a single digit rather than a whole vector.\n",
    "- Hence we use our labels as it is without performing any transformation."
   ]
  },
  {
   "cell_type": "markdown",
   "metadata": {
    "id": "dd-CtLigG1W6"
   },
   "source": [
    "#### 2F. Print total Number of classes in the Dataset. [1 Marks]"
   ]
  },
  {
   "cell_type": "code",
   "execution_count": 11,
   "metadata": {
    "colab": {
     "base_uri": "https://localhost:8080/"
    },
    "executionInfo": {
     "elapsed": 9,
     "status": "ok",
     "timestamp": 1680887676811,
     "user": {
      "displayName": "Smit Jani",
      "userId": "09792803432614869044"
     },
     "user_tz": -330
    },
    "id": "CatlGCg2GN9A",
    "outputId": "228addad-0d71-4f7b-bb64-8284dd173119"
   },
   "outputs": [
    {
     "name": "stdout",
     "output_type": "stream",
     "text": [
      "Classes [0 1 2 3 4 5 6 7 8 9]\n",
      "Total No. of Classes: 10\n"
     ]
    }
   ],
   "source": [
    "print('Classes', unique_tra)\n",
    "print('Total No. of Classes:', len(unique_tra))"
   ]
  },
  {
   "cell_type": "markdown",
   "metadata": {
    "id": "XjrGEHzpxs1-"
   },
   "source": [
    "- Hence there are total 10 classes in our dataset."
   ]
  },
  {
   "cell_type": "markdown",
   "metadata": {
    "id": "PdJ0aSj8xy08"
   },
   "source": [
    "### 3. Model Training & Evaluation using Neural Network [12 Marks]"
   ]
  },
  {
   "cell_type": "markdown",
   "metadata": {
    "id": "o2lQkRylyKt1"
   },
   "source": [
    "  #### 3A. Design a Neural Network to train a classifier. [3 Marks]"
   ]
  },
  {
   "cell_type": "code",
   "execution_count": 22,
   "metadata": {
    "executionInfo": {
     "elapsed": 7,
     "status": "ok",
     "timestamp": 1680888090971,
     "user": {
      "displayName": "Smit Jani",
      "userId": "09792803432614869044"
     },
     "user_tz": -330
    },
    "id": "NJP1xPwJ5OHz"
   },
   "outputs": [],
   "source": [
    "#Designing the Neural Network to train a classifier\n",
    "\n",
    "#Creating the model\n",
    "svnh1 = Sequential()\n",
    "svnh1.add(InputLayer(input_shape=(x_tra.shape[1],)))\n",
    "svnh1.add(Dense(256, activation='relu', kernel_initializer='he_uniform'))\n",
    "svnh1.add(BatchNormalization())\n",
    "svnh1.add(Dense(128, activation='relu', kernel_initializer='he_uniform'))\n",
    "svnh1.add(BatchNormalization())\n",
    "svnh1.add(Dense(64, activation='relu', kernel_initializer='he_uniform'))\n",
    "svnh1.add(BatchNormalization())\n",
    "svnh1.add(Dense(32, activation='relu', kernel_initializer='he_uniform'))\n",
    "svnh1.add(BatchNormalization())\n",
    "svnh1.add(Dropout(0.5))\n",
    "svnh1.add(Dense(10, activation='softmax'))\n",
    "\n",
    "#Compiling the model\n",
    "svnh1.compile(loss=losses.sparse_categorical_crossentropy, optimizer=Adam(), metrics=['accuracy'])"
   ]
  },
  {
   "cell_type": "code",
   "execution_count": 23,
   "metadata": {
    "colab": {
     "base_uri": "https://localhost:8080/"
    },
    "executionInfo": {
     "elapsed": 6,
     "status": "ok",
     "timestamp": 1680888090971,
     "user": {
      "displayName": "Smit Jani",
      "userId": "09792803432614869044"
     },
     "user_tz": -330
    },
    "id": "MusK-o3g_Ega",
    "outputId": "c28c9a5c-5a47-4e62-a099-5cf5ff99dbf6"
   },
   "outputs": [
    {
     "name": "stdout",
     "output_type": "stream",
     "text": [
      "Model: \"sequential_1\"\n",
      "_________________________________________________________________\n",
      " Layer (type)                Output Shape              Param #   \n",
      "=================================================================\n",
      " dense_5 (Dense)             (None, 256)               262400    \n",
      "                                                                 \n",
      " batch_normalization_4 (Batc  (None, 256)              1024      \n",
      " hNormalization)                                                 \n",
      "                                                                 \n",
      " dense_6 (Dense)             (None, 128)               32896     \n",
      "                                                                 \n",
      " batch_normalization_5 (Batc  (None, 128)              512       \n",
      " hNormalization)                                                 \n",
      "                                                                 \n",
      " dense_7 (Dense)             (None, 64)                8256      \n",
      "                                                                 \n",
      " batch_normalization_6 (Batc  (None, 64)               256       \n",
      " hNormalization)                                                 \n",
      "                                                                 \n",
      " dense_8 (Dense)             (None, 32)                2080      \n",
      "                                                                 \n",
      " batch_normalization_7 (Batc  (None, 32)               128       \n",
      " hNormalization)                                                 \n",
      "                                                                 \n",
      " dropout (Dropout)           (None, 32)                0         \n",
      "                                                                 \n",
      " dense_9 (Dense)             (None, 10)                330       \n",
      "                                                                 \n",
      "=================================================================\n",
      "Total params: 307,882\n",
      "Trainable params: 306,922\n",
      "Non-trainable params: 960\n",
      "_________________________________________________________________\n"
     ]
    }
   ],
   "source": [
    "svnh1.summary()"
   ]
  },
  {
   "cell_type": "code",
   "execution_count": 24,
   "metadata": {
    "executionInfo": {
     "elapsed": 3,
     "status": "ok",
     "timestamp": 1680888092220,
     "user": {
      "displayName": "Smit Jani",
      "userId": "09792803432614869044"
     },
     "user_tz": -330
    },
    "id": "tWTfULEB_ajh"
   },
   "outputs": [],
   "source": [
    "cp_svnh = ModelCheckpoint('model_weight_svnh.h5', monitor='val_accuracy', save_weights_only=True, mode='max', verbose=1)\n",
    "redlr_svnh = ReduceLROnPlateau(monitor='val_accuracy', factor=0.1, patience=2, min_lr=1e-6, model='auto')\n",
    "callbacks_svnh = [cp_svnh, redlr_svnh]"
   ]
  },
  {
   "cell_type": "markdown",
   "metadata": {
    "id": "kMkj5SZz__V-"
   },
   "source": [
    "#### 3B. Train the classifier using previously designed Architecture (Use best suitable parameters). [3 Marks]"
   ]
  },
  {
   "cell_type": "code",
   "execution_count": 25,
   "metadata": {
    "colab": {
     "base_uri": "https://localhost:8080/"
    },
    "executionInfo": {
     "elapsed": 326052,
     "status": "ok",
     "timestamp": 1680888421790,
     "user": {
      "displayName": "Smit Jani",
      "userId": "09792803432614869044"
     },
     "user_tz": -330
    },
    "id": "mDSIcTnE_HOM",
    "outputId": "3d756258-bac3-4d3a-bc4b-e14ecf642512"
   },
   "outputs": [
    {
     "name": "stdout",
     "output_type": "stream",
     "text": [
      "Epoch 1/100\n",
      "\n",
      "Epoch 1: saving model to model_weight_svnh.h5\n",
      "399/399 - 7s - loss: 1.6861 - accuracy: 0.4507 - val_loss: 1.3764 - val_accuracy: 0.5457 - lr: 0.0010 - 7s/epoch - 17ms/step\n",
      "Epoch 2/100\n",
      "\n",
      "Epoch 2: saving model to model_weight_svnh.h5\n",
      "399/399 - 2s - loss: 1.0406 - accuracy: 0.6812 - val_loss: 1.6438 - val_accuracy: 0.5217 - lr: 0.0010 - 2s/epoch - 6ms/step\n",
      "Epoch 3/100\n",
      "\n",
      "Epoch 3: saving model to model_weight_svnh.h5\n",
      "399/399 - 3s - loss: 0.8629 - accuracy: 0.7394 - val_loss: 1.2024 - val_accuracy: 0.6126 - lr: 0.0010 - 3s/epoch - 7ms/step\n",
      "Epoch 4/100\n",
      "\n",
      "Epoch 4: saving model to model_weight_svnh.h5\n",
      "399/399 - 3s - loss: 0.7629 - accuracy: 0.7730 - val_loss: 1.2518 - val_accuracy: 0.6019 - lr: 0.0010 - 3s/epoch - 8ms/step\n",
      "Epoch 5/100\n",
      "\n",
      "Epoch 5: saving model to model_weight_svnh.h5\n",
      "399/399 - 3s - loss: 0.6862 - accuracy: 0.7976 - val_loss: 1.0608 - val_accuracy: 0.6639 - lr: 0.0010 - 3s/epoch - 6ms/step\n",
      "Epoch 6/100\n",
      "\n",
      "Epoch 6: saving model to model_weight_svnh.h5\n",
      "399/399 - 3s - loss: 0.6434 - accuracy: 0.8089 - val_loss: 1.0312 - val_accuracy: 0.6767 - lr: 0.0010 - 3s/epoch - 6ms/step\n",
      "Epoch 7/100\n",
      "\n",
      "Epoch 7: saving model to model_weight_svnh.h5\n",
      "399/399 - 2s - loss: 0.6105 - accuracy: 0.8195 - val_loss: 1.0027 - val_accuracy: 0.6864 - lr: 0.0010 - 2s/epoch - 6ms/step\n",
      "Epoch 8/100\n",
      "\n",
      "Epoch 8: saving model to model_weight_svnh.h5\n",
      "399/399 - 3s - loss: 0.5716 - accuracy: 0.8316 - val_loss: 0.8929 - val_accuracy: 0.7116 - lr: 0.0010 - 3s/epoch - 7ms/step\n",
      "Epoch 9/100\n",
      "\n",
      "Epoch 9: saving model to model_weight_svnh.h5\n",
      "399/399 - 3s - loss: 0.5539 - accuracy: 0.8373 - val_loss: 0.9869 - val_accuracy: 0.6932 - lr: 0.0010 - 3s/epoch - 8ms/step\n",
      "Epoch 10/100\n",
      "\n",
      "Epoch 10: saving model to model_weight_svnh.h5\n",
      "399/399 - 3s - loss: 0.5298 - accuracy: 0.8438 - val_loss: 0.8422 - val_accuracy: 0.7398 - lr: 0.0010 - 3s/epoch - 6ms/step\n",
      "Epoch 11/100\n",
      "\n",
      "Epoch 11: saving model to model_weight_svnh.h5\n",
      "399/399 - 3s - loss: 0.5086 - accuracy: 0.8509 - val_loss: 0.7940 - val_accuracy: 0.7469 - lr: 0.0010 - 3s/epoch - 6ms/step\n",
      "Epoch 12/100\n",
      "\n",
      "Epoch 12: saving model to model_weight_svnh.h5\n",
      "399/399 - 2s - loss: 0.5019 - accuracy: 0.8508 - val_loss: 0.7897 - val_accuracy: 0.7555 - lr: 0.0010 - 2s/epoch - 6ms/step\n",
      "Epoch 13/100\n",
      "\n",
      "Epoch 13: saving model to model_weight_svnh.h5\n",
      "399/399 - 3s - loss: 0.4761 - accuracy: 0.8590 - val_loss: 0.5860 - val_accuracy: 0.8137 - lr: 0.0010 - 3s/epoch - 7ms/step\n",
      "Epoch 14/100\n",
      "\n",
      "Epoch 14: saving model to model_weight_svnh.h5\n",
      "399/399 - 3s - loss: 0.4615 - accuracy: 0.8633 - val_loss: 0.6658 - val_accuracy: 0.7887 - lr: 0.0010 - 3s/epoch - 8ms/step\n",
      "Epoch 15/100\n",
      "\n",
      "Epoch 15: saving model to model_weight_svnh.h5\n",
      "399/399 - 3s - loss: 0.4531 - accuracy: 0.8652 - val_loss: 0.7791 - val_accuracy: 0.7550 - lr: 0.0010 - 3s/epoch - 6ms/step\n",
      "Epoch 16/100\n",
      "\n",
      "Epoch 16: saving model to model_weight_svnh.h5\n",
      "399/399 - 3s - loss: 0.3881 - accuracy: 0.8858 - val_loss: 0.3666 - val_accuracy: 0.8873 - lr: 1.0000e-04 - 3s/epoch - 6ms/step\n",
      "Epoch 17/100\n",
      "\n",
      "Epoch 17: saving model to model_weight_svnh.h5\n",
      "399/399 - 2s - loss: 0.3755 - accuracy: 0.8897 - val_loss: 0.3621 - val_accuracy: 0.8888 - lr: 1.0000e-04 - 2s/epoch - 6ms/step\n",
      "Epoch 18/100\n",
      "\n",
      "Epoch 18: saving model to model_weight_svnh.h5\n",
      "399/399 - 3s - loss: 0.3655 - accuracy: 0.8935 - val_loss: 0.3727 - val_accuracy: 0.8850 - lr: 1.0000e-04 - 3s/epoch - 7ms/step\n",
      "Epoch 19/100\n",
      "\n",
      "Epoch 19: saving model to model_weight_svnh.h5\n",
      "399/399 - 3s - loss: 0.3645 - accuracy: 0.8935 - val_loss: 0.3648 - val_accuracy: 0.8883 - lr: 1.0000e-04 - 3s/epoch - 8ms/step\n",
      "Epoch 20/100\n",
      "\n",
      "Epoch 20: saving model to model_weight_svnh.h5\n",
      "399/399 - 2s - loss: 0.3574 - accuracy: 0.8950 - val_loss: 0.3333 - val_accuracy: 0.8988 - lr: 1.0000e-05 - 2s/epoch - 6ms/step\n",
      "Epoch 21/100\n",
      "\n",
      "Epoch 21: saving model to model_weight_svnh.h5\n",
      "399/399 - 2s - loss: 0.3543 - accuracy: 0.8961 - val_loss: 0.3318 - val_accuracy: 0.9003 - lr: 1.0000e-05 - 2s/epoch - 6ms/step\n",
      "Epoch 22/100\n",
      "\n",
      "Epoch 22: saving model to model_weight_svnh.h5\n",
      "399/399 - 2s - loss: 0.3512 - accuracy: 0.8968 - val_loss: 0.3319 - val_accuracy: 0.8997 - lr: 1.0000e-05 - 2s/epoch - 6ms/step\n",
      "Epoch 23/100\n",
      "\n",
      "Epoch 23: saving model to model_weight_svnh.h5\n",
      "399/399 - 3s - loss: 0.3536 - accuracy: 0.8966 - val_loss: 0.3313 - val_accuracy: 0.9002 - lr: 1.0000e-05 - 3s/epoch - 7ms/step\n",
      "Epoch 24/100\n",
      "\n",
      "Epoch 24: saving model to model_weight_svnh.h5\n",
      "399/399 - 3s - loss: 0.3535 - accuracy: 0.8965 - val_loss: 0.3298 - val_accuracy: 0.9004 - lr: 1.0000e-06 - 3s/epoch - 8ms/step\n",
      "Epoch 25/100\n",
      "\n",
      "Epoch 25: saving model to model_weight_svnh.h5\n",
      "399/399 - 2s - loss: 0.3515 - accuracy: 0.8963 - val_loss: 0.3295 - val_accuracy: 0.9005 - lr: 1.0000e-06 - 2s/epoch - 6ms/step\n",
      "Epoch 26/100\n",
      "\n",
      "Epoch 26: saving model to model_weight_svnh.h5\n",
      "399/399 - 2s - loss: 0.3510 - accuracy: 0.8968 - val_loss: 0.3295 - val_accuracy: 0.9008 - lr: 1.0000e-06 - 2s/epoch - 6ms/step\n",
      "Epoch 27/100\n",
      "\n",
      "Epoch 27: saving model to model_weight_svnh.h5\n",
      "399/399 - 3s - loss: 0.3539 - accuracy: 0.8966 - val_loss: 0.3295 - val_accuracy: 0.9002 - lr: 1.0000e-06 - 3s/epoch - 6ms/step\n",
      "Epoch 28/100\n",
      "\n",
      "Epoch 28: saving model to model_weight_svnh.h5\n",
      "399/399 - 3s - loss: 0.3527 - accuracy: 0.8965 - val_loss: 0.3297 - val_accuracy: 0.8998 - lr: 1.0000e-06 - 3s/epoch - 7ms/step\n",
      "Epoch 29/100\n",
      "\n",
      "Epoch 29: saving model to model_weight_svnh.h5\n",
      "399/399 - 3s - loss: 0.3525 - accuracy: 0.8969 - val_loss: 0.3293 - val_accuracy: 0.9006 - lr: 1.0000e-06 - 3s/epoch - 8ms/step\n",
      "Epoch 30/100\n",
      "\n",
      "Epoch 30: saving model to model_weight_svnh.h5\n",
      "399/399 - 3s - loss: 0.3521 - accuracy: 0.8973 - val_loss: 0.3294 - val_accuracy: 0.9002 - lr: 1.0000e-06 - 3s/epoch - 6ms/step\n",
      "Epoch 31/100\n",
      "\n",
      "Epoch 31: saving model to model_weight_svnh.h5\n",
      "399/399 - 3s - loss: 0.3514 - accuracy: 0.8968 - val_loss: 0.3294 - val_accuracy: 0.9008 - lr: 1.0000e-06 - 3s/epoch - 6ms/step\n",
      "Epoch 32/100\n",
      "\n",
      "Epoch 32: saving model to model_weight_svnh.h5\n",
      "399/399 - 2s - loss: 0.3544 - accuracy: 0.8958 - val_loss: 0.3294 - val_accuracy: 0.9009 - lr: 1.0000e-06 - 2s/epoch - 6ms/step\n",
      "Epoch 33/100\n",
      "\n",
      "Epoch 33: saving model to model_weight_svnh.h5\n",
      "399/399 - 3s - loss: 0.3538 - accuracy: 0.8964 - val_loss: 0.3294 - val_accuracy: 0.9004 - lr: 1.0000e-06 - 3s/epoch - 9ms/step\n",
      "Epoch 34/100\n",
      "\n",
      "Epoch 34: saving model to model_weight_svnh.h5\n",
      "399/399 - 3s - loss: 0.3539 - accuracy: 0.8960 - val_loss: 0.3292 - val_accuracy: 0.9008 - lr: 1.0000e-06 - 3s/epoch - 7ms/step\n",
      "Epoch 35/100\n",
      "\n",
      "Epoch 35: saving model to model_weight_svnh.h5\n",
      "399/399 - 3s - loss: 0.3543 - accuracy: 0.8975 - val_loss: 0.3292 - val_accuracy: 0.9006 - lr: 1.0000e-06 - 3s/epoch - 7ms/step\n",
      "Epoch 36/100\n",
      "\n",
      "Epoch 36: saving model to model_weight_svnh.h5\n",
      "399/399 - 2s - loss: 0.3529 - accuracy: 0.8965 - val_loss: 0.3291 - val_accuracy: 0.9011 - lr: 1.0000e-06 - 2s/epoch - 6ms/step\n",
      "Epoch 37/100\n",
      "\n",
      "Epoch 37: saving model to model_weight_svnh.h5\n",
      "399/399 - 3s - loss: 0.3520 - accuracy: 0.8979 - val_loss: 0.3292 - val_accuracy: 0.9006 - lr: 1.0000e-06 - 3s/epoch - 7ms/step\n",
      "Epoch 38/100\n",
      "\n",
      "Epoch 38: saving model to model_weight_svnh.h5\n",
      "399/399 - 3s - loss: 0.3526 - accuracy: 0.8961 - val_loss: 0.3293 - val_accuracy: 0.9003 - lr: 1.0000e-06 - 3s/epoch - 8ms/step\n",
      "Epoch 39/100\n",
      "\n",
      "Epoch 39: saving model to model_weight_svnh.h5\n",
      "399/399 - 3s - loss: 0.3532 - accuracy: 0.8968 - val_loss: 0.3291 - val_accuracy: 0.9007 - lr: 1.0000e-06 - 3s/epoch - 7ms/step\n",
      "Epoch 40/100\n",
      "\n",
      "Epoch 40: saving model to model_weight_svnh.h5\n",
      "399/399 - 3s - loss: 0.3516 - accuracy: 0.8969 - val_loss: 0.3294 - val_accuracy: 0.9008 - lr: 1.0000e-06 - 3s/epoch - 7ms/step\n",
      "Epoch 41/100\n",
      "\n",
      "Epoch 41: saving model to model_weight_svnh.h5\n",
      "399/399 - 2s - loss: 0.3513 - accuracy: 0.8965 - val_loss: 0.3290 - val_accuracy: 0.9007 - lr: 1.0000e-06 - 2s/epoch - 6ms/step\n",
      "Epoch 42/100\n",
      "\n",
      "Epoch 42: saving model to model_weight_svnh.h5\n",
      "399/399 - 2s - loss: 0.3512 - accuracy: 0.8968 - val_loss: 0.3290 - val_accuracy: 0.9012 - lr: 1.0000e-06 - 2s/epoch - 6ms/step\n",
      "Epoch 43/100\n",
      "\n",
      "Epoch 43: saving model to model_weight_svnh.h5\n",
      "399/399 - 4s - loss: 0.3534 - accuracy: 0.8971 - val_loss: 0.3291 - val_accuracy: 0.9008 - lr: 1.0000e-06 - 4s/epoch - 9ms/step\n",
      "Epoch 44/100\n",
      "\n",
      "Epoch 44: saving model to model_weight_svnh.h5\n",
      "399/399 - 3s - loss: 0.3524 - accuracy: 0.8970 - val_loss: 0.3289 - val_accuracy: 0.9009 - lr: 1.0000e-06 - 3s/epoch - 7ms/step\n",
      "Epoch 45/100\n",
      "\n",
      "Epoch 45: saving model to model_weight_svnh.h5\n",
      "399/399 - 2s - loss: 0.3505 - accuracy: 0.8971 - val_loss: 0.3288 - val_accuracy: 0.9007 - lr: 1.0000e-06 - 2s/epoch - 6ms/step\n",
      "Epoch 46/100\n",
      "\n",
      "Epoch 46: saving model to model_weight_svnh.h5\n",
      "399/399 - 2s - loss: 0.3523 - accuracy: 0.8963 - val_loss: 0.3288 - val_accuracy: 0.9012 - lr: 1.0000e-06 - 2s/epoch - 6ms/step\n",
      "Epoch 47/100\n",
      "\n",
      "Epoch 47: saving model to model_weight_svnh.h5\n",
      "399/399 - 3s - loss: 0.3505 - accuracy: 0.8977 - val_loss: 0.3287 - val_accuracy: 0.9007 - lr: 1.0000e-06 - 3s/epoch - 7ms/step\n",
      "Epoch 48/100\n",
      "\n",
      "Epoch 48: saving model to model_weight_svnh.h5\n",
      "399/399 - 3s - loss: 0.3516 - accuracy: 0.8975 - val_loss: 0.3288 - val_accuracy: 0.9008 - lr: 1.0000e-06 - 3s/epoch - 9ms/step\n",
      "Epoch 49/100\n",
      "\n",
      "Epoch 49: saving model to model_weight_svnh.h5\n",
      "399/399 - 2s - loss: 0.3520 - accuracy: 0.8978 - val_loss: 0.3287 - val_accuracy: 0.9004 - lr: 1.0000e-06 - 2s/epoch - 6ms/step\n",
      "Epoch 50/100\n",
      "\n",
      "Epoch 50: saving model to model_weight_svnh.h5\n",
      "399/399 - 2s - loss: 0.3498 - accuracy: 0.8974 - val_loss: 0.3287 - val_accuracy: 0.9014 - lr: 1.0000e-06 - 2s/epoch - 6ms/step\n",
      "Epoch 51/100\n",
      "\n",
      "Epoch 51: saving model to model_weight_svnh.h5\n",
      "399/399 - 2s - loss: 0.3501 - accuracy: 0.8972 - val_loss: 0.3288 - val_accuracy: 0.9006 - lr: 1.0000e-06 - 2s/epoch - 6ms/step\n",
      "Epoch 52/100\n",
      "\n",
      "Epoch 52: saving model to model_weight_svnh.h5\n",
      "399/399 - 2s - loss: 0.3508 - accuracy: 0.8976 - val_loss: 0.3288 - val_accuracy: 0.9007 - lr: 1.0000e-06 - 2s/epoch - 6ms/step\n",
      "Epoch 53/100\n",
      "\n",
      "Epoch 53: saving model to model_weight_svnh.h5\n",
      "399/399 - 3s - loss: 0.3507 - accuracy: 0.8974 - val_loss: 0.3287 - val_accuracy: 0.9008 - lr: 1.0000e-06 - 3s/epoch - 8ms/step\n",
      "Epoch 54/100\n",
      "\n",
      "Epoch 54: saving model to model_weight_svnh.h5\n",
      "399/399 - 3s - loss: 0.3494 - accuracy: 0.8981 - val_loss: 0.3284 - val_accuracy: 0.9012 - lr: 1.0000e-06 - 3s/epoch - 7ms/step\n",
      "Epoch 55/100\n",
      "\n",
      "Epoch 55: saving model to model_weight_svnh.h5\n",
      "399/399 - 3s - loss: 0.3495 - accuracy: 0.8964 - val_loss: 0.3287 - val_accuracy: 0.9013 - lr: 1.0000e-06 - 3s/epoch - 6ms/step\n",
      "Epoch 56/100\n",
      "\n",
      "Epoch 56: saving model to model_weight_svnh.h5\n",
      "399/399 - 2s - loss: 0.3499 - accuracy: 0.8971 - val_loss: 0.3287 - val_accuracy: 0.9007 - lr: 1.0000e-06 - 2s/epoch - 6ms/step\n",
      "Epoch 57/100\n",
      "\n",
      "Epoch 57: saving model to model_weight_svnh.h5\n",
      "399/399 - 2s - loss: 0.3514 - accuracy: 0.8979 - val_loss: 0.3285 - val_accuracy: 0.9008 - lr: 1.0000e-06 - 2s/epoch - 6ms/step\n",
      "Epoch 58/100\n",
      "\n",
      "Epoch 58: saving model to model_weight_svnh.h5\n",
      "399/399 - 3s - loss: 0.3507 - accuracy: 0.8976 - val_loss: 0.3284 - val_accuracy: 0.9007 - lr: 1.0000e-06 - 3s/epoch - 8ms/step\n",
      "Epoch 59/100\n",
      "\n",
      "Epoch 59: saving model to model_weight_svnh.h5\n",
      "399/399 - 3s - loss: 0.3531 - accuracy: 0.8975 - val_loss: 0.3284 - val_accuracy: 0.9009 - lr: 1.0000e-06 - 3s/epoch - 6ms/step\n",
      "Epoch 60/100\n",
      "\n",
      "Epoch 60: saving model to model_weight_svnh.h5\n",
      "399/399 - 2s - loss: 0.3512 - accuracy: 0.8976 - val_loss: 0.3285 - val_accuracy: 0.9004 - lr: 1.0000e-06 - 2s/epoch - 6ms/step\n",
      "Epoch 61/100\n",
      "\n",
      "Epoch 61: saving model to model_weight_svnh.h5\n",
      "399/399 - 2s - loss: 0.3506 - accuracy: 0.8974 - val_loss: 0.3282 - val_accuracy: 0.9006 - lr: 1.0000e-06 - 2s/epoch - 6ms/step\n",
      "Epoch 62/100\n",
      "\n",
      "Epoch 62: saving model to model_weight_svnh.h5\n",
      "399/399 - 3s - loss: 0.3512 - accuracy: 0.8975 - val_loss: 0.3282 - val_accuracy: 0.9009 - lr: 1.0000e-06 - 3s/epoch - 6ms/step\n",
      "Epoch 63/100\n",
      "\n",
      "Epoch 63: saving model to model_weight_svnh.h5\n",
      "399/399 - 3s - loss: 0.3538 - accuracy: 0.8958 - val_loss: 0.3283 - val_accuracy: 0.9009 - lr: 1.0000e-06 - 3s/epoch - 8ms/step\n",
      "Epoch 64/100\n",
      "\n",
      "Epoch 64: saving model to model_weight_svnh.h5\n",
      "399/399 - 3s - loss: 0.3502 - accuracy: 0.8976 - val_loss: 0.3285 - val_accuracy: 0.9010 - lr: 1.0000e-06 - 3s/epoch - 7ms/step\n",
      "Epoch 65/100\n",
      "\n",
      "Epoch 65: saving model to model_weight_svnh.h5\n",
      "399/399 - 2s - loss: 0.3497 - accuracy: 0.8972 - val_loss: 0.3285 - val_accuracy: 0.9006 - lr: 1.0000e-06 - 2s/epoch - 6ms/step\n",
      "Epoch 66/100\n",
      "\n",
      "Epoch 66: saving model to model_weight_svnh.h5\n",
      "399/399 - 2s - loss: 0.3498 - accuracy: 0.8981 - val_loss: 0.3283 - val_accuracy: 0.9010 - lr: 1.0000e-06 - 2s/epoch - 6ms/step\n",
      "Epoch 67/100\n",
      "\n",
      "Epoch 67: saving model to model_weight_svnh.h5\n",
      "399/399 - 2s - loss: 0.3512 - accuracy: 0.8975 - val_loss: 0.3284 - val_accuracy: 0.9012 - lr: 1.0000e-06 - 2s/epoch - 6ms/step\n",
      "Epoch 68/100\n",
      "\n",
      "Epoch 68: saving model to model_weight_svnh.h5\n",
      "399/399 - 3s - loss: 0.3504 - accuracy: 0.8983 - val_loss: 0.3284 - val_accuracy: 0.9011 - lr: 1.0000e-06 - 3s/epoch - 8ms/step\n",
      "Epoch 69/100\n",
      "\n",
      "Epoch 69: saving model to model_weight_svnh.h5\n",
      "399/399 - 3s - loss: 0.3514 - accuracy: 0.8979 - val_loss: 0.3282 - val_accuracy: 0.9008 - lr: 1.0000e-06 - 3s/epoch - 7ms/step\n",
      "Epoch 70/100\n",
      "\n",
      "Epoch 70: saving model to model_weight_svnh.h5\n",
      "399/399 - 3s - loss: 0.3475 - accuracy: 0.8987 - val_loss: 0.3282 - val_accuracy: 0.9013 - lr: 1.0000e-06 - 3s/epoch - 6ms/step\n",
      "Epoch 71/100\n",
      "\n",
      "Epoch 71: saving model to model_weight_svnh.h5\n",
      "399/399 - 3s - loss: 0.3508 - accuracy: 0.8970 - val_loss: 0.3283 - val_accuracy: 0.9013 - lr: 1.0000e-06 - 3s/epoch - 6ms/step\n",
      "Epoch 72/100\n",
      "\n",
      "Epoch 72: saving model to model_weight_svnh.h5\n",
      "399/399 - 3s - loss: 0.3503 - accuracy: 0.8970 - val_loss: 0.3282 - val_accuracy: 0.9011 - lr: 1.0000e-06 - 3s/epoch - 6ms/step\n",
      "Epoch 73/100\n",
      "\n",
      "Epoch 73: saving model to model_weight_svnh.h5\n",
      "399/399 - 4s - loss: 0.3487 - accuracy: 0.8985 - val_loss: 0.3282 - val_accuracy: 0.9014 - lr: 1.0000e-06 - 4s/epoch - 9ms/step\n",
      "Epoch 74/100\n",
      "\n",
      "Epoch 74: saving model to model_weight_svnh.h5\n",
      "399/399 - 2s - loss: 0.3498 - accuracy: 0.8981 - val_loss: 0.3283 - val_accuracy: 0.9011 - lr: 1.0000e-06 - 2s/epoch - 6ms/step\n",
      "Epoch 75/100\n",
      "\n",
      "Epoch 75: saving model to model_weight_svnh.h5\n",
      "399/399 - 2s - loss: 0.3499 - accuracy: 0.8973 - val_loss: 0.3282 - val_accuracy: 0.9008 - lr: 1.0000e-06 - 2s/epoch - 6ms/step\n",
      "Epoch 76/100\n",
      "\n",
      "Epoch 76: saving model to model_weight_svnh.h5\n",
      "399/399 - 2s - loss: 0.3486 - accuracy: 0.8984 - val_loss: 0.3280 - val_accuracy: 0.9013 - lr: 1.0000e-06 - 2s/epoch - 6ms/step\n",
      "Epoch 77/100\n",
      "\n",
      "Epoch 77: saving model to model_weight_svnh.h5\n",
      "399/399 - 3s - loss: 0.3505 - accuracy: 0.8971 - val_loss: 0.3280 - val_accuracy: 0.9008 - lr: 1.0000e-06 - 3s/epoch - 6ms/step\n",
      "Epoch 78/100\n",
      "\n",
      "Epoch 78: saving model to model_weight_svnh.h5\n",
      "399/399 - 3s - loss: 0.3482 - accuracy: 0.8976 - val_loss: 0.3279 - val_accuracy: 0.9009 - lr: 1.0000e-06 - 3s/epoch - 8ms/step\n",
      "Epoch 79/100\n",
      "\n",
      "Epoch 79: saving model to model_weight_svnh.h5\n",
      "399/399 - 3s - loss: 0.3491 - accuracy: 0.8983 - val_loss: 0.3279 - val_accuracy: 0.9014 - lr: 1.0000e-06 - 3s/epoch - 6ms/step\n",
      "Epoch 80/100\n",
      "\n",
      "Epoch 80: saving model to model_weight_svnh.h5\n",
      "399/399 - 2s - loss: 0.3504 - accuracy: 0.8965 - val_loss: 0.3282 - val_accuracy: 0.9009 - lr: 1.0000e-06 - 2s/epoch - 6ms/step\n",
      "Epoch 81/100\n",
      "\n",
      "Epoch 81: saving model to model_weight_svnh.h5\n",
      "399/399 - 3s - loss: 0.3492 - accuracy: 0.8976 - val_loss: 0.3278 - val_accuracy: 0.9008 - lr: 1.0000e-06 - 3s/epoch - 6ms/step\n",
      "Epoch 82/100\n",
      "\n",
      "Epoch 82: saving model to model_weight_svnh.h5\n",
      "399/399 - 2s - loss: 0.3513 - accuracy: 0.8968 - val_loss: 0.3278 - val_accuracy: 0.9009 - lr: 1.0000e-06 - 2s/epoch - 6ms/step\n",
      "Epoch 83/100\n",
      "\n",
      "Epoch 83: saving model to model_weight_svnh.h5\n",
      "399/399 - 3s - loss: 0.3505 - accuracy: 0.8977 - val_loss: 0.3281 - val_accuracy: 0.9013 - lr: 1.0000e-06 - 3s/epoch - 8ms/step\n",
      "Epoch 84/100\n",
      "\n",
      "Epoch 84: saving model to model_weight_svnh.h5\n",
      "399/399 - 3s - loss: 0.3495 - accuracy: 0.8985 - val_loss: 0.3278 - val_accuracy: 0.9011 - lr: 1.0000e-06 - 3s/epoch - 7ms/step\n",
      "Epoch 85/100\n",
      "\n",
      "Epoch 85: saving model to model_weight_svnh.h5\n",
      "399/399 - 2s - loss: 0.3515 - accuracy: 0.8969 - val_loss: 0.3278 - val_accuracy: 0.9010 - lr: 1.0000e-06 - 2s/epoch - 6ms/step\n",
      "Epoch 86/100\n",
      "\n",
      "Epoch 86: saving model to model_weight_svnh.h5\n",
      "399/399 - 2s - loss: 0.3508 - accuracy: 0.8967 - val_loss: 0.3279 - val_accuracy: 0.9010 - lr: 1.0000e-06 - 2s/epoch - 6ms/step\n",
      "Epoch 87/100\n",
      "\n",
      "Epoch 87: saving model to model_weight_svnh.h5\n",
      "399/399 - 2s - loss: 0.3471 - accuracy: 0.8989 - val_loss: 0.3277 - val_accuracy: 0.9015 - lr: 1.0000e-06 - 2s/epoch - 6ms/step\n",
      "Epoch 88/100\n",
      "\n",
      "Epoch 88: saving model to model_weight_svnh.h5\n",
      "399/399 - 4s - loss: 0.3473 - accuracy: 0.8985 - val_loss: 0.3277 - val_accuracy: 0.9013 - lr: 1.0000e-06 - 4s/epoch - 9ms/step\n",
      "Epoch 89/100\n",
      "\n",
      "Epoch 89: saving model to model_weight_svnh.h5\n",
      "399/399 - 3s - loss: 0.3507 - accuracy: 0.8976 - val_loss: 0.3277 - val_accuracy: 0.9014 - lr: 1.0000e-06 - 3s/epoch - 7ms/step\n",
      "Epoch 90/100\n",
      "\n",
      "Epoch 90: saving model to model_weight_svnh.h5\n",
      "399/399 - 3s - loss: 0.3492 - accuracy: 0.8977 - val_loss: 0.3276 - val_accuracy: 0.9016 - lr: 1.0000e-06 - 3s/epoch - 6ms/step\n",
      "Epoch 91/100\n",
      "\n",
      "Epoch 91: saving model to model_weight_svnh.h5\n",
      "399/399 - 2s - loss: 0.3496 - accuracy: 0.8980 - val_loss: 0.3276 - val_accuracy: 0.9013 - lr: 1.0000e-06 - 2s/epoch - 6ms/step\n",
      "Epoch 92/100\n",
      "\n",
      "Epoch 92: saving model to model_weight_svnh.h5\n",
      "399/399 - 3s - loss: 0.3491 - accuracy: 0.8974 - val_loss: 0.3277 - val_accuracy: 0.9012 - lr: 1.0000e-06 - 3s/epoch - 6ms/step\n",
      "Epoch 93/100\n",
      "\n",
      "Epoch 93: saving model to model_weight_svnh.h5\n",
      "399/399 - 3s - loss: 0.3520 - accuracy: 0.8965 - val_loss: 0.3275 - val_accuracy: 0.9013 - lr: 1.0000e-06 - 3s/epoch - 7ms/step\n",
      "Epoch 94/100\n",
      "\n",
      "Epoch 94: saving model to model_weight_svnh.h5\n",
      "399/399 - 3s - loss: 0.3495 - accuracy: 0.8974 - val_loss: 0.3273 - val_accuracy: 0.9013 - lr: 1.0000e-06 - 3s/epoch - 7ms/step\n",
      "Epoch 95/100\n",
      "\n",
      "Epoch 95: saving model to model_weight_svnh.h5\n",
      "399/399 - 2s - loss: 0.3482 - accuracy: 0.8990 - val_loss: 0.3275 - val_accuracy: 0.9006 - lr: 1.0000e-06 - 2s/epoch - 6ms/step\n",
      "Epoch 96/100\n",
      "\n",
      "Epoch 96: saving model to model_weight_svnh.h5\n",
      "399/399 - 2s - loss: 0.3487 - accuracy: 0.8981 - val_loss: 0.3275 - val_accuracy: 0.9012 - lr: 1.0000e-06 - 2s/epoch - 6ms/step\n",
      "Epoch 97/100\n",
      "\n",
      "Epoch 97: saving model to model_weight_svnh.h5\n",
      "399/399 - 3s - loss: 0.3503 - accuracy: 0.8976 - val_loss: 0.3274 - val_accuracy: 0.9012 - lr: 1.0000e-06 - 3s/epoch - 6ms/step\n",
      "Epoch 98/100\n",
      "\n",
      "Epoch 98: saving model to model_weight_svnh.h5\n",
      "399/399 - 3s - loss: 0.3472 - accuracy: 0.8983 - val_loss: 0.3274 - val_accuracy: 0.9010 - lr: 1.0000e-06 - 3s/epoch - 7ms/step\n",
      "Epoch 99/100\n",
      "\n",
      "Epoch 99: saving model to model_weight_svnh.h5\n",
      "399/399 - 3s - loss: 0.3515 - accuracy: 0.8973 - val_loss: 0.3274 - val_accuracy: 0.9010 - lr: 1.0000e-06 - 3s/epoch - 7ms/step\n",
      "Epoch 100/100\n",
      "\n",
      "Epoch 100: saving model to model_weight_svnh.h5\n",
      "399/399 - 2s - loss: 0.3472 - accuracy: 0.8993 - val_loss: 0.3275 - val_accuracy: 0.9012 - lr: 1.0000e-06 - 2s/epoch - 6ms/step\n"
     ]
    }
   ],
   "source": [
    "#Fitting the model\n",
    "SVNH1 = svnh1.fit(x_tra, y_tra, epochs=100, verbose=2, batch_size=256, validation_data=(x_tes, y_tes), callbacks=callbacks_svnh)"
   ]
  },
  {
   "cell_type": "markdown",
   "metadata": {
    "id": "0NI6VHMU_tca"
   },
   "source": [
    "#### 3C. Evaluate performance of the model with appropriate metrics. [2 Marks]"
   ]
  },
  {
   "cell_type": "code",
   "execution_count": 26,
   "metadata": {
    "colab": {
     "base_uri": "https://localhost:8080/"
    },
    "executionInfo": {
     "elapsed": 3020,
     "status": "ok",
     "timestamp": 1680888424796,
     "user": {
      "displayName": "Smit Jani",
      "userId": "09792803432614869044"
     },
     "user_tz": -330
    },
    "id": "qek8LkKyALRd",
    "outputId": "057548cb-84c4-4d98-f98c-63824a51b763"
   },
   "outputs": [
    {
     "name": "stdout",
     "output_type": "stream",
     "text": [
      "563/563 [==============================] - 1s 3ms/step - loss: 0.3275 - accuracy: 0.9012\n"
     ]
    }
   ],
   "source": [
    "#Evaluating the performance of the model\n",
    "loss_svnh, accuracy_svnh = svnh1.evaluate(x_tes, y_tes, verbose=1)"
   ]
  },
  {
   "cell_type": "code",
   "execution_count": 27,
   "metadata": {
    "colab": {
     "base_uri": "https://localhost:8080/"
    },
    "executionInfo": {
     "elapsed": 1966,
     "status": "ok",
     "timestamp": 1680888426751,
     "user": {
      "displayName": "Smit Jani",
      "userId": "09792803432614869044"
     },
     "user_tz": -330
    },
    "id": "GYb-KKYCAlr4",
    "outputId": "8b6cb1af-650a-46ba-928e-dde04d4b6ee2"
   },
   "outputs": [
    {
     "name": "stdout",
     "output_type": "stream",
     "text": [
      "563/563 [==============================] - 2s 3ms/step\n"
     ]
    }
   ],
   "source": [
    "#Predicting the values of\n",
    "y_pred_svnh = svnh1.predict(x_tes)\n",
    "y_pred_svnh_fin = []\n",
    "for i in y_pred_svnh:\n",
    "  y_pred_svnh_fin.append(np.argmax(i))"
   ]
  },
  {
   "cell_type": "code",
   "execution_count": 28,
   "metadata": {
    "colab": {
     "base_uri": "https://localhost:8080/"
    },
    "executionInfo": {
     "elapsed": 8,
     "status": "ok",
     "timestamp": 1680888426751,
     "user": {
      "displayName": "Smit Jani",
      "userId": "09792803432614869044"
     },
     "user_tz": -330
    },
    "id": "B1CdRrhU1DLi",
    "outputId": "a12f1d3b-49d8-4e6d-e035-1ca91353d6ff"
   },
   "outputs": [
    {
     "name": "stdout",
     "output_type": "stream",
     "text": [
      "The Classification Report of the above \"SVNH\" model \n",
      "               precision    recall  f1-score   support\n",
      "\n",
      "           0       0.92      0.93      0.92      1814\n",
      "           1       0.89      0.91      0.90      1828\n",
      "           2       0.92      0.91      0.92      1803\n",
      "           3       0.86      0.87      0.87      1719\n",
      "           4       0.93      0.92      0.92      1812\n",
      "           5       0.89      0.89      0.89      1768\n",
      "           6       0.90      0.88      0.89      1832\n",
      "           7       0.92      0.93      0.92      1808\n",
      "           8       0.88      0.88      0.88      1812\n",
      "           9       0.90      0.89      0.89      1804\n",
      "\n",
      "    accuracy                           0.90     18000\n",
      "   macro avg       0.90      0.90      0.90     18000\n",
      "weighted avg       0.90      0.90      0.90     18000\n",
      "\n"
     ]
    }
   ],
   "source": [
    "#Generating the classification report of the model\n",
    "print('The Classification Report of the above \"SVNH\" model \\n', classification_report(y_tes, y_pred_svnh_fin))"
   ]
  },
  {
   "cell_type": "code",
   "execution_count": 29,
   "metadata": {
    "colab": {
     "base_uri": "https://localhost:8080/",
     "height": 696
    },
    "executionInfo": {
     "elapsed": 3657,
     "status": "ok",
     "timestamp": 1680888430403,
     "user": {
      "displayName": "Smit Jani",
      "userId": "09792803432614869044"
     },
     "user_tz": -330
    },
    "id": "XD1NkhxaDt1P",
    "outputId": "8f7a5108-fea2-498b-940a-f95a4528b649"
   },
   "outputs": [
    {
     "data": {
      "image/png": "[encoded data removed]",
      "text/plain": [
       "<Figure size 1000x800 with 2 Axes>"
      ]
     },
     "metadata": {},
     "output_type": "display_data"
    }
   ],
   "source": [
    "#Generating Confusion Matrix\n",
    "cm_svnh = confusion_matrix(y_tes, y_pred_svnh_fin)\n",
    "\n",
    "#Plotting Confusion Matrix usnig Heatmap\n",
    "plt.figure(figsize=(10,8))\n",
    "sns.heatmap(cm_svnh, annot=True, fmt='d')\n",
    "plt.xlabel('Predicted Values')\n",
    "plt.ylabel('Actual Values')\n",
    "plt.show();"
   ]
  },
  {
   "cell_type": "markdown",
   "metadata": {
    "id": "LJUbgBijbxIJ"
   },
   "source": [
    "#### 3D. Plot the training loss, validation loss vs number of epochs and training accuracy, validation accuracy vs number of epochs plot and write your observations on the same. [4 Marks]"
   ]
  },
  {
   "cell_type": "code",
   "execution_count": 30,
   "metadata": {
    "colab": {
     "base_uri": "https://localhost:8080/",
     "height": 472
    },
    "executionInfo": {
     "elapsed": 24,
     "status": "ok",
     "timestamp": 1680888430404,
     "user": {
      "displayName": "Smit Jani",
      "userId": "09792803432614869044"
     },
     "user_tz": -330
    },
    "id": "gCVBThyAb1I5",
    "outputId": "87afd069-6ae0-4df4-f614-f57d45fc73ca"
   },
   "outputs": [
    {
     "data": {
      "image/png": "[encoded data removed]",
      "text/plain": [
       "<Figure size 640x480 with 1 Axes>"
      ]
     },
     "metadata": {},
     "output_type": "display_data"
    }
   ],
   "source": [
    "#Plotting Training Loss & Validation Loss vs Number of Epochs\n",
    "plt.plot(SVNH1.history['loss'])\n",
    "plt.plot(SVNH1.history['val_loss'])\n",
    "plt.title('SVNH1 Model Losses')\n",
    "plt.xlabel('No. of Epochs')\n",
    "plt.ylabel('Loss')\n",
    "plt.legend(['Training Loss', 'Validation Loss'], loc='best')\n",
    "plt.show();"
   ]
  },
  {
   "cell_type": "code",
   "execution_count": 31,
   "metadata": {
    "colab": {
     "base_uri": "https://localhost:8080/",
     "height": 472
    },
    "executionInfo": {
     "elapsed": 21,
     "status": "ok",
     "timestamp": 1680888430404,
     "user": {
      "displayName": "Smit Jani",
      "userId": "09792803432614869044"
     },
     "user_tz": -330
    },
    "id": "H_K0dmSedLC6",
    "outputId": "d5a590cb-a441-475f-a2d7-6a3ac9fa6957"
   },
   "outputs": [
    {
     "data": {
      "image/png": "[encoded data removed]",
      "text/plain": [
       "<Figure size 640x480 with 1 Axes>"
      ]
     },
     "metadata": {},
     "output_type": "display_data"
    }
   ],
   "source": [
    "#Plotting Training Accuracy & Validation Accuracy vs Number of Epochs\n",
    "plt.plot(SVNH1.history['accuracy'])\n",
    "plt.plot(SVNH1.history['val_accuracy'])\n",
    "plt.title('SVNH1 Model Accuracy')\n",
    "plt.xlabel('No. of Epochs')\n",
    "plt.ylabel('Accuracy')\n",
    "plt.legend(['Training Accuracy', 'Validation Accuracy'], loc='best') \n",
    "plt.show();"
   ]
  },
  {
   "cell_type": "markdown",
   "metadata": {
    "id": "minhpiHBhoVD"
   },
   "source": [
    "#### Observations:\n",
    "- The SVNH file dataset is comparatively a large dataset, hence a model can be trianed in a good manner.\n",
    "- There are 10 classes in the dataset & all the classes seem to be in a balance. This can be considered a positive point for improvement of the model performance.\n",
    "- Further the model works fine of training set but the performance has even improved on testing(validation) dataset.\n",
    "- Also the point to be noted is that not only the accuracy of the model is high, but also the recall & precision of the modle seems to be on a higher side which suggest that the model can be said to be a better model.\n",
    "- If the model is put to production, it will definately perform good & with time the performance shall improve."
   ]
  }
 ],
 "metadata": {
  "accelerator": "GPU",
  "colab": {
   "authorship_tag": "ABX9TyNKGTlDGdKwMnK6X5enNo+N",
   "mount_file_id": "1ZGG1mC2xzo8b_jy0s1SM2Ra-OjQ2uWn6",
   "provenance": []
  },
  "gpuClass": "standard",
  "kernelspec": {
   "display_name": "Python 3 (ipykernel)",
   "language": "python",
   "name": "python3"
  },
  "language_info": {
   "codemirror_mode": {
    "name": "ipython",
    "version": 3
   },
   "file_extension": ".py",
   "mimetype": "text/x-python",
   "name": "python",
   "nbconvert_exporter": "python",
   "pygments_lexer": "ipython3",
   "version": "3.9.12"
  }
 },
 "nbformat": 4,
 "nbformat_minor": 1
}
