{
 "cells": [
  {
   "cell_type": "markdown",
   "metadata": {
    "id": "3TflokK1cuE9"
   },
   "source": [
    "# Neural Networks - Project"
   ]
  },
  {
   "cell_type": "markdown",
   "metadata": {
    "id": "fX_Q11cTcozU"
   },
   "source": [
    "# Predictive Modeling"
   ]
  },
  {
   "cell_type": "markdown",
   "metadata": {
    "id": "l6ag2tRec1N6"
   },
   "source": [
    "### 1. Data import and Understanding [10 Marks]"
   ]
  },
  {
   "cell_type": "markdown",
   "metadata": {
    "id": "j0v5mDmzc8h1"
   },
   "source": [
    "#### 1A. Read the ‘Signals.csv’ as DataFrame and import required libraries. [2 Marks]"
   ]
  },
  {
   "cell_type": "code",
   "execution_count": 1,
   "metadata": {
    "executionInfo": {
     "elapsed": 8190,
     "status": "ok",
     "timestamp": 1680887647456,
     "user": {
      "displayName": "Smit Jani",
      "userId": "09792803432614869044"
     },
     "user_tz": -330
    },
    "id": "ZszbKr8ke8Uz"
   },
   "outputs": [],
   "source": [
    "#Importing all the necessary libraries\n",
    "import numpy as np \n",
    "import pandas as pd \n",
    "import matplotlib.pyplot as plt\n",
    "import seaborn as sns \n",
    "%matplotlib inline\n",
    "\n",
    "from sklearn import preprocessing \n",
    "from sklearn.model_selection import train_test_split, GridSearchCV, RandomizedSearchCV\n",
    "from sklearn.metrics import classification_report, confusion_matrix\n",
    "\n",
    "import tensorflow as tf\n",
    "from tensorflow.keras import layers, losses, Sequential\n",
    "from tensorflow.keras.layers import BatchNormalization, Dense, Dropout, Input, InputLayer, Reshape\n",
    "from tensorflow.keras.optimizers import Adam, SGD\n",
    "from tensorflow.keras.utils import to_categorical \n",
    "from tensorflow.keras.callbacks import ModelCheckpoint, ReduceLROnPlateau\n",
    "\n",
    "from keras.wrappers.scikit_learn import KerasClassifier\n",
    "\n",
    "import h5py\n",
    "\n",
    "import warnings\n",
    "warnings.filterwarnings('ignore')"
   ]
  },
  {
   "cell_type": "code",
   "execution_count": 2,
   "metadata": {
    "colab": {
     "base_uri": "https://localhost:8080/",
     "height": 267
    },
    "executionInfo": {
     "elapsed": 633,
     "status": "ok",
     "timestamp": 1680885760436,
     "user": {
      "displayName": "Smit Jani",
      "userId": "09792803432614869044"
     },
     "user_tz": -330
    },
    "id": "gGVtMKV1fFqz",
    "outputId": "ecc6aaa0-fb5a-44c1-b5a1-81a3f9a6cb97"
   },
   "outputs": [
    {
     "data": {
      "text/html": [
       "\n",
       "  <div id=\"df-7ed33fe6-b106-42a0-b2e5-cb5739e4e69c\">\n",
       "    <div class=\"colab-df-container\">\n",
       "      <div>\n",
       "<style scoped>\n",
       "    .dataframe tbody tr th:only-of-type {\n",
       "        vertical-align: middle;\n",
       "    }\n",
       "\n",
       "    .dataframe tbody tr th {\n",
       "        vertical-align: top;\n",
       "    }\n",
       "\n",
       "    .dataframe thead th {\n",
       "        text-align: right;\n",
       "    }\n",
       "</style>\n",
       "<table border=\"1\" class=\"dataframe\">\n",
       "  <thead>\n",
       "    <tr style=\"text-align: right;\">\n",
       "      <th></th>\n",
       "      <th>Parameter 1</th>\n",
       "      <th>Parameter 2</th>\n",
       "      <th>Parameter 3</th>\n",
       "      <th>Parameter 4</th>\n",
       "      <th>Parameter 5</th>\n",
       "      <th>Parameter 6</th>\n",
       "      <th>Parameter 7</th>\n",
       "      <th>Parameter 8</th>\n",
       "      <th>Parameter 9</th>\n",
       "      <th>Parameter 10</th>\n",
       "      <th>Parameter 11</th>\n",
       "      <th>Signal_Strength</th>\n",
       "    </tr>\n",
       "  </thead>\n",
       "  <tbody>\n",
       "    <tr>\n",
       "      <th>0</th>\n",
       "      <td>7.4</td>\n",
       "      <td>0.70</td>\n",
       "      <td>0.00</td>\n",
       "      <td>1.9</td>\n",
       "      <td>0.076</td>\n",
       "      <td>11.0</td>\n",
       "      <td>34.0</td>\n",
       "      <td>0.9978</td>\n",
       "      <td>3.51</td>\n",
       "      <td>0.56</td>\n",
       "      <td>9.4</td>\n",
       "      <td>5</td>\n",
       "    </tr>\n",
       "    <tr>\n",
       "      <th>1</th>\n",
       "      <td>7.8</td>\n",
       "      <td>0.88</td>\n",
       "      <td>0.00</td>\n",
       "      <td>2.6</td>\n",
       "      <td>0.098</td>\n",
       "      <td>25.0</td>\n",
       "      <td>67.0</td>\n",
       "      <td>0.9968</td>\n",
       "      <td>3.20</td>\n",
       "      <td>0.68</td>\n",
       "      <td>9.8</td>\n",
       "      <td>5</td>\n",
       "    </tr>\n",
       "    <tr>\n",
       "      <th>2</th>\n",
       "      <td>7.8</td>\n",
       "      <td>0.76</td>\n",
       "      <td>0.04</td>\n",
       "      <td>2.3</td>\n",
       "      <td>0.092</td>\n",
       "      <td>15.0</td>\n",
       "      <td>54.0</td>\n",
       "      <td>0.9970</td>\n",
       "      <td>3.26</td>\n",
       "      <td>0.65</td>\n",
       "      <td>9.8</td>\n",
       "      <td>5</td>\n",
       "    </tr>\n",
       "    <tr>\n",
       "      <th>3</th>\n",
       "      <td>11.2</td>\n",
       "      <td>0.28</td>\n",
       "      <td>0.56</td>\n",
       "      <td>1.9</td>\n",
       "      <td>0.075</td>\n",
       "      <td>17.0</td>\n",
       "      <td>60.0</td>\n",
       "      <td>0.9980</td>\n",
       "      <td>3.16</td>\n",
       "      <td>0.58</td>\n",
       "      <td>9.8</td>\n",
       "      <td>6</td>\n",
       "    </tr>\n",
       "    <tr>\n",
       "      <th>4</th>\n",
       "      <td>7.4</td>\n",
       "      <td>0.70</td>\n",
       "      <td>0.00</td>\n",
       "      <td>1.9</td>\n",
       "      <td>0.076</td>\n",
       "      <td>11.0</td>\n",
       "      <td>34.0</td>\n",
       "      <td>0.9978</td>\n",
       "      <td>3.51</td>\n",
       "      <td>0.56</td>\n",
       "      <td>9.4</td>\n",
       "      <td>5</td>\n",
       "    </tr>\n",
       "  </tbody>\n",
       "</table>\n",
       "</div>\n",
       "      <button class=\"colab-df-convert\" onclick=\"convertToInteractive('df-7ed33fe6-b106-42a0-b2e5-cb5739e4e69c')\"\n",
       "              title=\"Convert this dataframe to an interactive table.\"\n",
       "              style=\"display:none;\">\n",
       "        \n",
       "  <svg xmlns=\"http://www.w3.org/2000/svg\" height=\"24px\"viewBox=\"0 0 24 24\"\n",
       "       width=\"24px\">\n",
       "    <path d=\"M0 0h24v24H0V0z\" fill=\"none\"/>\n",
       "    <path d=\"M18.56 5.44l.94 2.06.94-2.06 2.06-.94-2.06-.94-.94-2.06-.94 2.06-2.06.94zm-11 1L8.5 8.5l.94-2.06 2.06-.94-2.06-.94L8.5 2.5l-.94 2.06-2.06.94zm10 10l.94 2.06.94-2.06 2.06-.94-2.06-.94-.94-2.06-.94 2.06-2.06.94z\"/><path d=\"M17.41 7.96l-1.37-1.37c-.4-.4-.92-.59-1.43-.59-.52 0-1.04.2-1.43.59L10.3 9.45l-7.72 7.72c-.78.78-.78 2.05 0 2.83L4 21.41c.39.39.9.59 1.41.59.51 0 1.02-.2 1.41-.59l7.78-7.78 2.81-2.81c.8-.78.8-2.07 0-2.86zM5.41 20L4 18.59l7.72-7.72 1.47 1.35L5.41 20z\"/>\n",
       "  </svg>\n",
       "      </button>\n",
       "      \n",
       "  <style>\n",
       "    .colab-df-container {\n",
       "      display:flex;\n",
       "      flex-wrap:wrap;\n",
       "      gap: 12px;\n",
       "    }\n",
       "\n",
       "    .colab-df-convert {\n",
       "      background-color: #E8F0FE;\n",
       "      border: none;\n",
       "      border-radius: 50%;\n",
       "      cursor: pointer;\n",
       "      display: none;\n",
       "      fill: #1967D2;\n",
       "      height: 32px;\n",
       "      padding: 0 0 0 0;\n",
       "      width: 32px;\n",
       "    }\n",
       "\n",
       "    .colab-df-convert:hover {\n",
       "      background-color: #E2EBFA;\n",
       "      box-shadow: 0px 1px 2px rgba(60, 64, 67, 0.3), 0px 1px 3px 1px rgba(60, 64, 67, 0.15);\n",
       "      fill: #174EA6;\n",
       "    }\n",
       "\n",
       "    [theme=dark] .colab-df-convert {\n",
       "      background-color: #3B4455;\n",
       "      fill: #D2E3FC;\n",
       "    }\n",
       "\n",
       "    [theme=dark] .colab-df-convert:hover {\n",
       "      background-color: #434B5C;\n",
       "      box-shadow: 0px 1px 3px 1px rgba(0, 0, 0, 0.15);\n",
       "      filter: drop-shadow(0px 1px 2px rgba(0, 0, 0, 0.3));\n",
       "      fill: #FFFFFF;\n",
       "    }\n",
       "  </style>\n",
       "\n",
       "      <script>\n",
       "        const buttonEl =\n",
       "          document.querySelector('#df-7ed33fe6-b106-42a0-b2e5-cb5739e4e69c button.colab-df-convert');\n",
       "        buttonEl.style.display =\n",
       "          google.colab.kernel.accessAllowed ? 'block' : 'none';\n",
       "\n",
       "        async function convertToInteractive(key) {\n",
       "          const element = document.querySelector('#df-7ed33fe6-b106-42a0-b2e5-cb5739e4e69c');\n",
       "          const dataTable =\n",
       "            await google.colab.kernel.invokeFunction('convertToInteractive',\n",
       "                                                     [key], {});\n",
       "          if (!dataTable) return;\n",
       "\n",
       "          const docLinkHtml = 'Like what you see? Visit the ' +\n",
       "            '<a target=\"_blank\" href=https://colab.research.google.com/notebooks/data_table.ipynb>data table notebook</a>'\n",
       "            + ' to learn more about interactive tables.';\n",
       "          element.innerHTML = '';\n",
       "          dataTable['output_type'] = 'display_data';\n",
       "          await google.colab.output.renderOutput(dataTable, element);\n",
       "          const docLink = document.createElement('div');\n",
       "          docLink.innerHTML = docLinkHtml;\n",
       "          element.appendChild(docLink);\n",
       "        }\n",
       "      </script>\n",
       "    </div>\n",
       "  </div>\n",
       "  "
      ],
      "text/plain": [
       "   Parameter 1  Parameter 2  Parameter 3  Parameter 4  Parameter 5  \\\n",
       "0          7.4         0.70         0.00          1.9        0.076   \n",
       "1          7.8         0.88         0.00          2.6        0.098   \n",
       "2          7.8         0.76         0.04          2.3        0.092   \n",
       "3         11.2         0.28         0.56          1.9        0.075   \n",
       "4          7.4         0.70         0.00          1.9        0.076   \n",
       "\n",
       "   Parameter 6  Parameter 7  Parameter 8  Parameter 9  Parameter 10  \\\n",
       "0         11.0         34.0       0.9978         3.51          0.56   \n",
       "1         25.0         67.0       0.9968         3.20          0.68   \n",
       "2         15.0         54.0       0.9970         3.26          0.65   \n",
       "3         17.0         60.0       0.9980         3.16          0.58   \n",
       "4         11.0         34.0       0.9978         3.51          0.56   \n",
       "\n",
       "   Parameter 11  Signal_Strength  \n",
       "0           9.4                5  \n",
       "1           9.8                5  \n",
       "2           9.8                5  \n",
       "3           9.8                6  \n",
       "4           9.4                5  "
      ]
     },
     "execution_count": 2,
     "metadata": {},
     "output_type": "execute_result"
    }
   ],
   "source": [
    "#Reading the Signal.csv file\n",
    "sig = pd.read_csv('/content/drive/MyDrive/Python - Collab/11. Module-8_Intro to Neural Networks & Deep Learning/Neural Networks - Project/Signal.csv')\n",
    "sig.head()"
   ]
  },
  {
   "cell_type": "markdown",
   "metadata": {
    "id": "UrArnFHNgBDz"
   },
   "source": [
    "#### 1B. Check for missing values and print percentage for each attribute. [2 Marks]"
   ]
  },
  {
   "cell_type": "code",
   "execution_count": 3,
   "metadata": {
    "colab": {
     "base_uri": "https://localhost:8080/",
     "height": 425
    },
    "executionInfo": {
     "elapsed": 25,
     "status": "ok",
     "timestamp": 1680885760437,
     "user": {
      "displayName": "Smit Jani",
      "userId": "09792803432614869044"
     },
     "user_tz": -330
    },
    "id": "t4OKuu0KgDU3",
    "outputId": "e5e33696-3508-4259-b4e5-90ccc79602a7"
   },
   "outputs": [
    {
     "data": {
      "text/html": [
       "\n",
       "  <div id=\"df-ac504cf2-fc0a-43a2-9868-cc33c6148003\">\n",
       "    <div class=\"colab-df-container\">\n",
       "      <div>\n",
       "<style scoped>\n",
       "    .dataframe tbody tr th:only-of-type {\n",
       "        vertical-align: middle;\n",
       "    }\n",
       "\n",
       "    .dataframe tbody tr th {\n",
       "        vertical-align: top;\n",
       "    }\n",
       "\n",
       "    .dataframe thead th {\n",
       "        text-align: right;\n",
       "    }\n",
       "</style>\n",
       "<table border=\"1\" class=\"dataframe\">\n",
       "  <thead>\n",
       "    <tr style=\"text-align: right;\">\n",
       "      <th></th>\n",
       "      <th>Null_Values</th>\n",
       "      <th>Null_Value(%)</th>\n",
       "    </tr>\n",
       "  </thead>\n",
       "  <tbody>\n",
       "    <tr>\n",
       "      <th>Parameter 1</th>\n",
       "      <td>0</td>\n",
       "      <td>0</td>\n",
       "    </tr>\n",
       "    <tr>\n",
       "      <th>Parameter 2</th>\n",
       "      <td>0</td>\n",
       "      <td>0</td>\n",
       "    </tr>\n",
       "    <tr>\n",
       "      <th>Parameter 3</th>\n",
       "      <td>0</td>\n",
       "      <td>0</td>\n",
       "    </tr>\n",
       "    <tr>\n",
       "      <th>Parameter 4</th>\n",
       "      <td>0</td>\n",
       "      <td>0</td>\n",
       "    </tr>\n",
       "    <tr>\n",
       "      <th>Parameter 5</th>\n",
       "      <td>0</td>\n",
       "      <td>0</td>\n",
       "    </tr>\n",
       "    <tr>\n",
       "      <th>Parameter 6</th>\n",
       "      <td>0</td>\n",
       "      <td>0</td>\n",
       "    </tr>\n",
       "    <tr>\n",
       "      <th>Parameter 7</th>\n",
       "      <td>0</td>\n",
       "      <td>0</td>\n",
       "    </tr>\n",
       "    <tr>\n",
       "      <th>Parameter 8</th>\n",
       "      <td>0</td>\n",
       "      <td>0</td>\n",
       "    </tr>\n",
       "    <tr>\n",
       "      <th>Parameter 9</th>\n",
       "      <td>0</td>\n",
       "      <td>0</td>\n",
       "    </tr>\n",
       "    <tr>\n",
       "      <th>Parameter 10</th>\n",
       "      <td>0</td>\n",
       "      <td>0</td>\n",
       "    </tr>\n",
       "    <tr>\n",
       "      <th>Parameter 11</th>\n",
       "      <td>0</td>\n",
       "      <td>0</td>\n",
       "    </tr>\n",
       "    <tr>\n",
       "      <th>Signal_Strength</th>\n",
       "      <td>0</td>\n",
       "      <td>0</td>\n",
       "    </tr>\n",
       "  </tbody>\n",
       "</table>\n",
       "</div>\n",
       "      <button class=\"colab-df-convert\" onclick=\"convertToInteractive('df-ac504cf2-fc0a-43a2-9868-cc33c6148003')\"\n",
       "              title=\"Convert this dataframe to an interactive table.\"\n",
       "              style=\"display:none;\">\n",
       "        \n",
       "  <svg xmlns=\"http://www.w3.org/2000/svg\" height=\"24px\"viewBox=\"0 0 24 24\"\n",
       "       width=\"24px\">\n",
       "    <path d=\"M0 0h24v24H0V0z\" fill=\"none\"/>\n",
       "    <path d=\"M18.56 5.44l.94 2.06.94-2.06 2.06-.94-2.06-.94-.94-2.06-.94 2.06-2.06.94zm-11 1L8.5 8.5l.94-2.06 2.06-.94-2.06-.94L8.5 2.5l-.94 2.06-2.06.94zm10 10l.94 2.06.94-2.06 2.06-.94-2.06-.94-.94-2.06-.94 2.06-2.06.94z\"/><path d=\"M17.41 7.96l-1.37-1.37c-.4-.4-.92-.59-1.43-.59-.52 0-1.04.2-1.43.59L10.3 9.45l-7.72 7.72c-.78.78-.78 2.05 0 2.83L4 21.41c.39.39.9.59 1.41.59.51 0 1.02-.2 1.41-.59l7.78-7.78 2.81-2.81c.8-.78.8-2.07 0-2.86zM5.41 20L4 18.59l7.72-7.72 1.47 1.35L5.41 20z\"/>\n",
       "  </svg>\n",
       "      </button>\n",
       "      \n",
       "  <style>\n",
       "    .colab-df-container {\n",
       "      display:flex;\n",
       "      flex-wrap:wrap;\n",
       "      gap: 12px;\n",
       "    }\n",
       "\n",
       "    .colab-df-convert {\n",
       "      background-color: #E8F0FE;\n",
       "      border: none;\n",
       "      border-radius: 50%;\n",
       "      cursor: pointer;\n",
       "      display: none;\n",
       "      fill: #1967D2;\n",
       "      height: 32px;\n",
       "      padding: 0 0 0 0;\n",
       "      width: 32px;\n",
       "    }\n",
       "\n",
       "    .colab-df-convert:hover {\n",
       "      background-color: #E2EBFA;\n",
       "      box-shadow: 0px 1px 2px rgba(60, 64, 67, 0.3), 0px 1px 3px 1px rgba(60, 64, 67, 0.15);\n",
       "      fill: #174EA6;\n",
       "    }\n",
       "\n",
       "    [theme=dark] .colab-df-convert {\n",
       "      background-color: #3B4455;\n",
       "      fill: #D2E3FC;\n",
       "    }\n",
       "\n",
       "    [theme=dark] .colab-df-convert:hover {\n",
       "      background-color: #434B5C;\n",
       "      box-shadow: 0px 1px 3px 1px rgba(0, 0, 0, 0.15);\n",
       "      filter: drop-shadow(0px 1px 2px rgba(0, 0, 0, 0.3));\n",
       "      fill: #FFFFFF;\n",
       "    }\n",
       "  </style>\n",
       "\n",
       "      <script>\n",
       "        const buttonEl =\n",
       "          document.querySelector('#df-ac504cf2-fc0a-43a2-9868-cc33c6148003 button.colab-df-convert');\n",
       "        buttonEl.style.display =\n",
       "          google.colab.kernel.accessAllowed ? 'block' : 'none';\n",
       "\n",
       "        async function convertToInteractive(key) {\n",
       "          const element = document.querySelector('#df-ac504cf2-fc0a-43a2-9868-cc33c6148003');\n",
       "          const dataTable =\n",
       "            await google.colab.kernel.invokeFunction('convertToInteractive',\n",
       "                                                     [key], {});\n",
       "          if (!dataTable) return;\n",
       "\n",
       "          const docLinkHtml = 'Like what you see? Visit the ' +\n",
       "            '<a target=\"_blank\" href=https://colab.research.google.com/notebooks/data_table.ipynb>data table notebook</a>'\n",
       "            + ' to learn more about interactive tables.';\n",
       "          element.innerHTML = '';\n",
       "          dataTable['output_type'] = 'display_data';\n",
       "          await google.colab.output.renderOutput(dataTable, element);\n",
       "          const docLink = document.createElement('div');\n",
       "          docLink.innerHTML = docLinkHtml;\n",
       "          element.appendChild(docLink);\n",
       "        }\n",
       "      </script>\n",
       "    </div>\n",
       "  </div>\n",
       "  "
      ],
      "text/plain": [
       "                 Null_Values  Null_Value(%)\n",
       "Parameter 1                0              0\n",
       "Parameter 2                0              0\n",
       "Parameter 3                0              0\n",
       "Parameter 4                0              0\n",
       "Parameter 5                0              0\n",
       "Parameter 6                0              0\n",
       "Parameter 7                0              0\n",
       "Parameter 8                0              0\n",
       "Parameter 9                0              0\n",
       "Parameter 10               0              0\n",
       "Parameter 11               0              0\n",
       "Signal_Strength            0              0"
      ]
     },
     "execution_count": 3,
     "metadata": {},
     "output_type": "execute_result"
    }
   ],
   "source": [
    "#checking for Null/Missing Values\n",
    "sig_null = pd.DataFrame({'Null_Values': sig.isnull().sum(), 'Null_Value(%)': sig.isnull().sum()*100})\n",
    "sig_null"
   ]
  },
  {
   "cell_type": "markdown",
   "metadata": {
    "id": "XkjDW88QhDwL"
   },
   "source": [
    "This suggests that there seems to be no null values/missing values present in the dataset."
   ]
  },
  {
   "cell_type": "markdown",
   "metadata": {
    "id": "CRgucOyzsOfy"
   },
   "source": [
    "#### 1C. Check for presence of duplicate records in the dataset and impute with appropriate method. [2 Marks]"
   ]
  },
  {
   "cell_type": "code",
   "execution_count": 4,
   "metadata": {
    "colab": {
     "base_uri": "https://localhost:8080/"
    },
    "executionInfo": {
     "elapsed": 24,
     "status": "ok",
     "timestamp": 1680885760437,
     "user": {
      "displayName": "Smit Jani",
      "userId": "09792803432614869044"
     },
     "user_tz": -330
    },
    "id": "JNy45RQysV0q",
    "outputId": "6861351f-6703-4cef-ac7d-13c8a2c677ea"
   },
   "outputs": [
    {
     "data": {
      "text/plain": [
       "240"
      ]
     },
     "execution_count": 4,
     "metadata": {},
     "output_type": "execute_result"
    }
   ],
   "source": [
    "#Checking for presence of duplicate records\n",
    "sig_dup = sig.duplicated()\n",
    "sum(sig_dup)"
   ]
  },
  {
   "cell_type": "code",
   "execution_count": 5,
   "metadata": {
    "executionInfo": {
     "elapsed": 19,
     "status": "ok",
     "timestamp": 1680885760438,
     "user": {
      "displayName": "Smit Jani",
      "userId": "09792803432614869044"
     },
     "user_tz": -330
    },
    "id": "hg1VafMKsoHl"
   },
   "outputs": [],
   "source": [
    "#Dropping all the duplicated rows\n",
    "sig = sig.drop_duplicates(keep='first', ignore_index=True)"
   ]
  },
  {
   "cell_type": "markdown",
   "metadata": {
    "id": "WH9Tnih6vAau"
   },
   "source": [
    "#### 1D. Visualise distribution of the target variable. [2 Marks]"
   ]
  },
  {
   "cell_type": "code",
   "execution_count": 6,
   "metadata": {
    "colab": {
     "base_uri": "https://localhost:8080/",
     "height": 487
    },
    "executionInfo": {
     "elapsed": 564,
     "status": "ok",
     "timestamp": 1680885760984,
     "user": {
      "displayName": "Smit Jani",
      "userId": "09792803432614869044"
     },
     "user_tz": -330
    },
    "id": "bLXQw8i4uzCM",
    "outputId": "bfc55635-4dbb-454a-92cd-de332d0e7802"
   },
   "outputs": [
    {
     "data": {
      "image/png": "[encoded data removed]",
      "text/plain": [
       "<Figure size 800x500 with 1 Axes>"
      ]
     },
     "metadata": {},
     "output_type": "display_data"
    }
   ],
   "source": [
    "#Visualizing the distribution of target variable - 'Signal_Strength'\n",
    "plt.figure(figsize=(8,5))\n",
    "sns.countplot(sig, x=sig['Signal_Strength'], width=0.5)\n",
    "plt.xlabel('Signal_Strength')\n",
    "for i in range(len(sig['Signal_Strength'].value_counts())):\n",
    "  plt.text(i, sig['Signal_Strength'].value_counts()[i+3]+5, sig['Signal_Strength'].value_counts()[i+3], ha='center')\n",
    "plt.title('Distribution of Target variable - Signal_Strength')\n",
    "plt.show();"
   ]
  },
  {
   "cell_type": "markdown",
   "metadata": {
    "id": "kgF_bfPrGpGN"
   },
   "source": [
    "- From the above distrubution graph, it seems that majority of the signal have strength of 5 or 6 (~ 82%)\n",
    "- Signal Strength of 3 or 8 are very much less compared to that of other signal strength (~2%)."
   ]
  },
  {
   "cell_type": "markdown",
   "metadata": {
    "id": "p6tn2zv2JGIi"
   },
   "source": [
    "#### 1E.  Share insights from the initial data analysis (at least 2). [2 Marks]"
   ]
  },
  {
   "cell_type": "markdown",
   "metadata": {
    "id": "IcI3Vcn4JWfs"
   },
   "source": [
    "##### Insights\n",
    "- As already mentioned, the data has no missing values. Further the duplicate values found were dropped from the dataset.\n",
    "- The Signal Strength ranges from 3(lowest) to 8(highest).\n",
    "- Further the data has clean values, i.e. all the parameters are float type while the target feature is int type."
   ]
  },
  {
   "cell_type": "markdown",
   "metadata": {
    "id": "CHUxTkSFKtby"
   },
   "source": [
    "### 2. Data preprocessing [7 Marks]"
   ]
  },
  {
   "cell_type": "markdown",
   "metadata": {
    "id": "n5j52D_XKvym"
   },
   "source": [
    "#### 2A. Split the data into X & Y. [1 Marks]"
   ]
  },
  {
   "cell_type": "code",
   "execution_count": 7,
   "metadata": {
    "executionInfo": {
     "elapsed": 25,
     "status": "ok",
     "timestamp": 1680885760984,
     "user": {
      "displayName": "Smit Jani",
      "userId": "09792803432614869044"
     },
     "user_tz": -330
    },
    "id": "LeRvoj8GK23C"
   },
   "outputs": [],
   "source": [
    "#Splitting the data set into feature variable(x) & target variable(y)\n",
    "x = sig.drop('Signal_Strength', axis=1)\n",
    "y = sig['Signal_Strength']"
   ]
  },
  {
   "cell_type": "markdown",
   "metadata": {
    "id": "2b1VE0XKLLYg"
   },
   "source": [
    "#### 2B. Split the data into train & test with 70:30 proportion.[1 Marks]"
   ]
  },
  {
   "cell_type": "code",
   "execution_count": 8,
   "metadata": {
    "executionInfo": {
     "elapsed": 25,
     "status": "ok",
     "timestamp": 1680885760985,
     "user": {
      "displayName": "Smit Jani",
      "userId": "09792803432614869044"
     },
     "user_tz": -330
    },
    "id": "nMTv27r3LHlg"
   },
   "outputs": [],
   "source": [
    "#Splitting the data set into train & test set\n",
    "x_tr, x_te, y_tr, y_te = train_test_split(x, y, test_size=0.3, random_state=1, stratify=y)"
   ]
  },
  {
   "cell_type": "markdown",
   "metadata": {
    "id": "vkmHGAwgLuWs"
   },
   "source": [
    "#### 2C. Print shape of all the 4 variables and verify if train and test data is in sync. [1 Marks]"
   ]
  },
  {
   "cell_type": "code",
   "execution_count": 9,
   "metadata": {
    "colab": {
     "base_uri": "https://localhost:8080/"
    },
    "executionInfo": {
     "elapsed": 25,
     "status": "ok",
     "timestamp": 1680885760985,
     "user": {
      "displayName": "Smit Jani",
      "userId": "09792803432614869044"
     },
     "user_tz": -330
    },
    "id": "xWloCAFuL-So",
    "outputId": "212359b3-ca3b-42b9-c845-d17ddcdf830d"
   },
   "outputs": [
    {
     "name": "stdout",
     "output_type": "stream",
     "text": [
      "Training Datasets\n",
      "Shape of X-Train: (951, 11)\n",
      "Shape of Y-Train: (951,) \n",
      "\n",
      "Testing Dataset\n",
      "Shape of X-Test: (408, 11)\n",
      "Shape of Y-Test: (408,)\n"
     ]
    }
   ],
   "source": [
    "#Printing the shape of all the 4 variables\n",
    "print('Training Datasets')\n",
    "print('Shape of X-Train:', x_tr.shape)\n",
    "print('Shape of Y-Train:', y_tr.shape, '\\n')\n",
    "print('Testing Dataset')\n",
    "print('Shape of X-Test:', x_te.shape)\n",
    "print('Shape of Y-Test:', y_te.shape)"
   ]
  },
  {
   "cell_type": "code",
   "execution_count": 10,
   "metadata": {
    "colab": {
     "base_uri": "https://localhost:8080/",
     "height": 269
    },
    "executionInfo": {
     "elapsed": 21,
     "status": "ok",
     "timestamp": 1680885760986,
     "user": {
      "displayName": "Smit Jani",
      "userId": "09792803432614869044"
     },
     "user_tz": -330
    },
    "id": "BhYWMqqKMhCY",
    "outputId": "06f0570e-3b32-4067-d1a8-2d9386d9d1ee"
   },
   "outputs": [
    {
     "data": {
      "text/html": [
       "\n",
       "  <div id=\"df-93e333ed-0e7f-4637-bf4f-558fe002a972\">\n",
       "    <div class=\"colab-df-container\">\n",
       "      <div>\n",
       "<style scoped>\n",
       "    .dataframe tbody tr th:only-of-type {\n",
       "        vertical-align: middle;\n",
       "    }\n",
       "\n",
       "    .dataframe tbody tr th {\n",
       "        vertical-align: top;\n",
       "    }\n",
       "\n",
       "    .dataframe thead th {\n",
       "        text-align: right;\n",
       "    }\n",
       "</style>\n",
       "<table border=\"1\" class=\"dataframe\">\n",
       "  <thead>\n",
       "    <tr style=\"text-align: right;\">\n",
       "      <th></th>\n",
       "      <th>Original Data(Ratio)</th>\n",
       "      <th>Training Set</th>\n",
       "      <th>Testing Set</th>\n",
       "    </tr>\n",
       "    <tr>\n",
       "      <th>Signal_Strength</th>\n",
       "      <th></th>\n",
       "      <th></th>\n",
       "      <th></th>\n",
       "    </tr>\n",
       "  </thead>\n",
       "  <tbody>\n",
       "    <tr>\n",
       "      <th>3</th>\n",
       "      <td>0.007</td>\n",
       "      <td>0.007</td>\n",
       "      <td>0.007</td>\n",
       "    </tr>\n",
       "    <tr>\n",
       "      <th>4</th>\n",
       "      <td>0.039</td>\n",
       "      <td>0.039</td>\n",
       "      <td>0.039</td>\n",
       "    </tr>\n",
       "    <tr>\n",
       "      <th>5</th>\n",
       "      <td>0.425</td>\n",
       "      <td>0.425</td>\n",
       "      <td>0.424</td>\n",
       "    </tr>\n",
       "    <tr>\n",
       "      <th>6</th>\n",
       "      <td>0.394</td>\n",
       "      <td>0.393</td>\n",
       "      <td>0.395</td>\n",
       "    </tr>\n",
       "    <tr>\n",
       "      <th>7</th>\n",
       "      <td>0.123</td>\n",
       "      <td>0.123</td>\n",
       "      <td>0.123</td>\n",
       "    </tr>\n",
       "    <tr>\n",
       "      <th>8</th>\n",
       "      <td>0.013</td>\n",
       "      <td>0.013</td>\n",
       "      <td>0.012</td>\n",
       "    </tr>\n",
       "  </tbody>\n",
       "</table>\n",
       "</div>\n",
       "      <button class=\"colab-df-convert\" onclick=\"convertToInteractive('df-93e333ed-0e7f-4637-bf4f-558fe002a972')\"\n",
       "              title=\"Convert this dataframe to an interactive table.\"\n",
       "              style=\"display:none;\">\n",
       "        \n",
       "  <svg xmlns=\"http://www.w3.org/2000/svg\" height=\"24px\"viewBox=\"0 0 24 24\"\n",
       "       width=\"24px\">\n",
       "    <path d=\"M0 0h24v24H0V0z\" fill=\"none\"/>\n",
       "    <path d=\"M18.56 5.44l.94 2.06.94-2.06 2.06-.94-2.06-.94-.94-2.06-.94 2.06-2.06.94zm-11 1L8.5 8.5l.94-2.06 2.06-.94-2.06-.94L8.5 2.5l-.94 2.06-2.06.94zm10 10l.94 2.06.94-2.06 2.06-.94-2.06-.94-.94-2.06-.94 2.06-2.06.94z\"/><path d=\"M17.41 7.96l-1.37-1.37c-.4-.4-.92-.59-1.43-.59-.52 0-1.04.2-1.43.59L10.3 9.45l-7.72 7.72c-.78.78-.78 2.05 0 2.83L4 21.41c.39.39.9.59 1.41.59.51 0 1.02-.2 1.41-.59l7.78-7.78 2.81-2.81c.8-.78.8-2.07 0-2.86zM5.41 20L4 18.59l7.72-7.72 1.47 1.35L5.41 20z\"/>\n",
       "  </svg>\n",
       "      </button>\n",
       "      \n",
       "  <style>\n",
       "    .colab-df-container {\n",
       "      display:flex;\n",
       "      flex-wrap:wrap;\n",
       "      gap: 12px;\n",
       "    }\n",
       "\n",
       "    .colab-df-convert {\n",
       "      background-color: #E8F0FE;\n",
       "      border: none;\n",
       "      border-radius: 50%;\n",
       "      cursor: pointer;\n",
       "      display: none;\n",
       "      fill: #1967D2;\n",
       "      height: 32px;\n",
       "      padding: 0 0 0 0;\n",
       "      width: 32px;\n",
       "    }\n",
       "\n",
       "    .colab-df-convert:hover {\n",
       "      background-color: #E2EBFA;\n",
       "      box-shadow: 0px 1px 2px rgba(60, 64, 67, 0.3), 0px 1px 3px 1px rgba(60, 64, 67, 0.15);\n",
       "      fill: #174EA6;\n",
       "    }\n",
       "\n",
       "    [theme=dark] .colab-df-convert {\n",
       "      background-color: #3B4455;\n",
       "      fill: #D2E3FC;\n",
       "    }\n",
       "\n",
       "    [theme=dark] .colab-df-convert:hover {\n",
       "      background-color: #434B5C;\n",
       "      box-shadow: 0px 1px 3px 1px rgba(0, 0, 0, 0.15);\n",
       "      filter: drop-shadow(0px 1px 2px rgba(0, 0, 0, 0.3));\n",
       "      fill: #FFFFFF;\n",
       "    }\n",
       "  </style>\n",
       "\n",
       "      <script>\n",
       "        const buttonEl =\n",
       "          document.querySelector('#df-93e333ed-0e7f-4637-bf4f-558fe002a972 button.colab-df-convert');\n",
       "        buttonEl.style.display =\n",
       "          google.colab.kernel.accessAllowed ? 'block' : 'none';\n",
       "\n",
       "        async function convertToInteractive(key) {\n",
       "          const element = document.querySelector('#df-93e333ed-0e7f-4637-bf4f-558fe002a972');\n",
       "          const dataTable =\n",
       "            await google.colab.kernel.invokeFunction('convertToInteractive',\n",
       "                                                     [key], {});\n",
       "          if (!dataTable) return;\n",
       "\n",
       "          const docLinkHtml = 'Like what you see? Visit the ' +\n",
       "            '<a target=\"_blank\" href=https://colab.research.google.com/notebooks/data_table.ipynb>data table notebook</a>'\n",
       "            + ' to learn more about interactive tables.';\n",
       "          element.innerHTML = '';\n",
       "          dataTable['output_type'] = 'display_data';\n",
       "          await google.colab.output.renderOutput(dataTable, element);\n",
       "          const docLink = document.createElement('div');\n",
       "          docLink.innerHTML = docLinkHtml;\n",
       "          element.appendChild(docLink);\n",
       "        }\n",
       "      </script>\n",
       "    </div>\n",
       "  </div>\n",
       "  "
      ],
      "text/plain": [
       "                 Original Data(Ratio)  Training Set  Testing Set\n",
       "Signal_Strength                                                 \n",
       "3                               0.007         0.007        0.007\n",
       "4                               0.039         0.039        0.039\n",
       "5                               0.425         0.425        0.424\n",
       "6                               0.394         0.393        0.395\n",
       "7                               0.123         0.123        0.123\n",
       "8                               0.013         0.013        0.012"
      ]
     },
     "execution_count": 10,
     "metadata": {},
     "output_type": "execute_result"
    }
   ],
   "source": [
    "#Verifying the train & test data to be in sync\n",
    "data_sync = pd.DataFrame({'Original Data(Ratio)': round(sig['Signal_Strength'].value_counts(normalize=True),3), 'Training Set':round(y_tr.value_counts(normalize=True),3), 'Testing Set':round(y_te.value_counts(normalize=True),3)})\n",
    "data_sync.reset_index().sort_values(by='index', ascending=True).rename(columns={'index':'Signal_Strength'}).set_index('Signal_Strength')"
   ]
  },
  {
   "cell_type": "markdown",
   "metadata": {
    "id": "fFb7bblFUmsF"
   },
   "source": [
    "- Since the distribution of of target variable is imbalanced as visualized in the graph, we have already stratified 'y' during the splitting of train & test data.\n",
    "- Hence from the above dataframe it is visible that the ratio of all the values in target column in the original dataset is maintained in Training set as well as Testing set.\n",
    "- Hence on this basis we can say that the data of train & test is in sync."
   ]
  },
  {
   "cell_type": "markdown",
   "metadata": {
    "id": "4vskaQsXVeeu"
   },
   "source": [
    "#### 2D. Normalise the train and test data with appropriate method. [2 Marks]"
   ]
  },
  {
   "cell_type": "code",
   "execution_count": 11,
   "metadata": {
    "executionInfo": {
     "elapsed": 19,
     "status": "ok",
     "timestamp": 1680885760986,
     "user": {
      "displayName": "Smit Jani",
      "userId": "09792803432614869044"
     },
     "user_tz": -330
    },
    "id": "ZKazb2x6ViUD"
   },
   "outputs": [],
   "source": [
    "#Normaizing the training & testing data\n",
    "x_tr = preprocessing.scale(x_tr)\n",
    "x_te = preprocessing.scale(x_te)"
   ]
  },
  {
   "cell_type": "markdown",
   "metadata": {
    "id": "TS1e04j5Yt8d"
   },
   "source": [
    "#### 2E. Transform Labels into format acceptable by Neural Network [2 Marks]"
   ]
  },
  {
   "cell_type": "code",
   "execution_count": 12,
   "metadata": {
    "executionInfo": {
     "elapsed": 20,
     "status": "ok",
     "timestamp": 1680885760987,
     "user": {
      "displayName": "Smit Jani",
      "userId": "09792803432614869044"
     },
     "user_tz": -330
    },
    "id": "0Pw4eDxpcE4M"
   },
   "outputs": [],
   "source": [
    "# Encoding the Target variable\n",
    "le = preprocessing.LabelEncoder()\n",
    "y_tr = le.fit_transform(y_tr)\n",
    "y_te = le.fit_transform(y_te)"
   ]
  },
  {
   "cell_type": "markdown",
   "metadata": {
    "id": "09jfk6M7IZzi"
   },
   "source": [
    "- Since our Target features have values ranging from 3 to 8, we need to convert them into range starting from 0 which is acceptable by neural network.\n",
    "- We can use the range from 0 to 8 as well by transforming the labels to categorical format but it will only generate a vector having first 3 columns as 0 (Columns 0, 1, & 2) as we have values starting from 3.\n",
    "- Further instead of generating the vector, we can use the Sparse Categorical Cross Entropy as our data is already numerical & hence we need not convert it to categorical vector with 0 & 1 value.\n",
    "- Using Sparse Categorical Cross Entropy is faster compared to Categorical Cross Entropy as we deal directly with number instead of the whole vector."
   ]
  },
  {
   "cell_type": "markdown",
   "metadata": {
    "id": "EBS8ByaGjdlH"
   },
   "source": [
    "### 3. Model Training & Evaluation using Neural Network [13 Marks]"
   ]
  },
  {
   "cell_type": "markdown",
   "metadata": {
    "id": "Qe5Cr-RUjgLf"
   },
   "source": [
    "#### 3A. Design a Neural Network to train a classifier. [3 Marks]"
   ]
  },
  {
   "cell_type": "code",
   "execution_count": 13,
   "metadata": {
    "executionInfo": {
     "elapsed": 3974,
     "status": "ok",
     "timestamp": 1680885764941,
     "user": {
      "displayName": "Smit Jani",
      "userId": "09792803432614869044"
     },
     "user_tz": -330
    },
    "id": "5nDt0lD-NSvQ"
   },
   "outputs": [],
   "source": [
    "#Designing a Neural Network model(Basic Model)\n",
    "sig1 = Sequential()\n",
    "sig1.add(InputLayer(input_shape=(x_tr.shape[1],)))\n",
    "sig1.add(Dense(2, activation='relu'))\n",
    "sig1.add(Dense(6, activation='softmax'))\n",
    "\n",
    "#Compiling the Model\n",
    "sig1.compile(loss=losses.sparse_categorical_crossentropy, optimizer=Adam(), metrics=['accuracy'])"
   ]
  },
  {
   "cell_type": "code",
   "execution_count": 14,
   "metadata": {
    "colab": {
     "base_uri": "https://localhost:8080/"
    },
    "executionInfo": {
     "elapsed": 21,
     "status": "ok",
     "timestamp": 1680885764942,
     "user": {
      "displayName": "Smit Jani",
      "userId": "09792803432614869044"
     },
     "user_tz": -330
    },
    "id": "Dm9s6cqIB1zy",
    "outputId": "a1f74855-5621-4aa6-c058-d16a469054c6"
   },
   "outputs": [
    {
     "name": "stdout",
     "output_type": "stream",
     "text": [
      "Model: \"sequential\"\n",
      "_________________________________________________________________\n",
      " Layer (type)                Output Shape              Param #   \n",
      "=================================================================\n",
      " dense (Dense)               (None, 2)                 24        \n",
      "                                                                 \n",
      " dense_1 (Dense)             (None, 6)                 18        \n",
      "                                                                 \n",
      "=================================================================\n",
      "Total params: 42\n",
      "Trainable params: 42\n",
      "Non-trainable params: 0\n",
      "_________________________________________________________________\n"
     ]
    }
   ],
   "source": [
    "sig1.summary()"
   ]
  },
  {
   "cell_type": "markdown",
   "metadata": {
    "id": "rtBOxVaIxS5O"
   },
   "source": [
    "#### 3B. Train the classifier using previously designed Architecture [2 Mark]"
   ]
  },
  {
   "cell_type": "code",
   "execution_count": 15,
   "metadata": {
    "colab": {
     "base_uri": "https://localhost:8080/"
    },
    "executionInfo": {
     "elapsed": 10921,
     "status": "ok",
     "timestamp": 1680885775857,
     "user": {
      "displayName": "Smit Jani",
      "userId": "09792803432614869044"
     },
     "user_tz": -330
    },
    "id": "0r66zeHSv-Vs",
    "outputId": "b1ad5000-9da2-4ef3-afe8-598e53031302"
   },
   "outputs": [
    {
     "name": "stdout",
     "output_type": "stream",
     "text": [
      "Epoch 1/10\n",
      "30/30 [==============================] - 5s 10ms/step - loss: 2.0369 - accuracy: 0.2986 - val_loss: 2.0157 - val_accuracy: 0.2868\n",
      "Epoch 2/10\n",
      "30/30 [==============================] - 0s 4ms/step - loss: 1.9534 - accuracy: 0.3260 - val_loss: 1.9356 - val_accuracy: 0.3137\n",
      "Epoch 3/10\n",
      "30/30 [==============================] - 0s 5ms/step - loss: 1.8820 - accuracy: 0.3491 - val_loss: 1.8689 - val_accuracy: 0.3333\n",
      "Epoch 4/10\n",
      "30/30 [==============================] - 0s 4ms/step - loss: 1.8228 - accuracy: 0.3628 - val_loss: 1.8102 - val_accuracy: 0.3603\n",
      "Epoch 5/10\n",
      "30/30 [==============================] - 0s 5ms/step - loss: 1.7713 - accuracy: 0.3828 - val_loss: 1.7614 - val_accuracy: 0.3627\n",
      "Epoch 6/10\n",
      "30/30 [==============================] - 0s 5ms/step - loss: 1.7270 - accuracy: 0.3933 - val_loss: 1.7195 - val_accuracy: 0.3725\n",
      "Epoch 7/10\n",
      "30/30 [==============================] - 0s 4ms/step - loss: 1.6885 - accuracy: 0.4038 - val_loss: 1.6822 - val_accuracy: 0.3848\n",
      "Epoch 8/10\n",
      "30/30 [==============================] - 0s 5ms/step - loss: 1.6539 - accuracy: 0.4069 - val_loss: 1.6490 - val_accuracy: 0.4020\n",
      "Epoch 9/10\n",
      "30/30 [==============================] - 0s 6ms/step - loss: 1.6230 - accuracy: 0.4122 - val_loss: 1.6187 - val_accuracy: 0.4142\n",
      "Epoch 10/10\n",
      "30/30 [==============================] - 0s 6ms/step - loss: 1.5946 - accuracy: 0.4206 - val_loss: 1.5913 - val_accuracy: 0.4118\n"
     ]
    }
   ],
   "source": [
    "#Fitting the Model\n",
    "SIG1 = sig1.fit(x_tr, y_tr, epochs=10, verbose=1, validation_data=(x_te, y_te))"
   ]
  },
  {
   "cell_type": "code",
   "execution_count": 16,
   "metadata": {
    "colab": {
     "base_uri": "https://localhost:8080/"
    },
    "executionInfo": {
     "elapsed": 9,
     "status": "ok",
     "timestamp": 1680885775858,
     "user": {
      "displayName": "Smit Jani",
      "userId": "09792803432614869044"
     },
     "user_tz": -330
    },
    "id": "MgeZrY7eBEn9",
    "outputId": "912e2fb5-e40c-4df4-8d85-78cc7b6f93ab"
   },
   "outputs": [
    {
     "name": "stdout",
     "output_type": "stream",
     "text": [
      "13/13 [==============================] - 0s 3ms/step - loss: 1.5913 - accuracy: 0.4118\n",
      "The accuracy of the model is: 0.4117647111415863\n"
     ]
    }
   ],
   "source": [
    "loss1, accuracy1 = sig1.evaluate(x_te, y_te, verbose=1)\n",
    "print('The accuracy of the model is:', accuracy1)"
   ]
  },
  {
   "cell_type": "markdown",
   "metadata": {
    "id": "dgMee1XnAMLM"
   },
   "source": [
    "#### 3C. Plot 2 separate visuals. [3 Marks]"
   ]
  },
  {
   "cell_type": "markdown",
   "metadata": {
    "id": "dk5x7fs9AWbs"
   },
   "source": [
    "#### 3C(i). Training Loss and Validation Loss"
   ]
  },
  {
   "cell_type": "code",
   "execution_count": 17,
   "metadata": {
    "colab": {
     "base_uri": "https://localhost:8080/",
     "height": 472
    },
    "executionInfo": {
     "elapsed": 999,
     "status": "ok",
     "timestamp": 1680885776850,
     "user": {
      "displayName": "Smit Jani",
      "userId": "09792803432614869044"
     },
     "user_tz": -330
    },
    "id": "Iqijj2n8xLvx",
    "outputId": "e9c01c6d-e254-40cd-fc4d-72b7cdb611d0"
   },
   "outputs": [
    {
     "data": {
      "image/png": "[encoded data removed]",
      "text/plain": [
       "<Figure size 640x480 with 1 Axes>"
      ]
     },
     "metadata": {},
     "output_type": "display_data"
    }
   ],
   "source": [
    "#Visualizing the Training loss & Validation loss of the above model\n",
    "plt.plot(SIG1.history['loss'])\n",
    "plt.plot(SIG1.history['val_loss'])\n",
    "plt.title('SIG1 Model Loss')\n",
    "plt.xlabel('No. of Epochs ')\n",
    "plt.ylabel('Loss')\n",
    "plt.legend(['Training_Loss', 'Validation_Loss'], loc='best')\n",
    "plt.show();"
   ]
  },
  {
   "cell_type": "markdown",
   "metadata": {
    "id": "aJnPXiYNCPvd"
   },
   "source": [
    "#### 3C(ii). Training Accuracy and Validation Accuracy"
   ]
  },
  {
   "cell_type": "code",
   "execution_count": 18,
   "metadata": {
    "colab": {
     "base_uri": "https://localhost:8080/",
     "height": 472
    },
    "executionInfo": {
     "elapsed": 26,
     "status": "ok",
     "timestamp": 1680885776851,
     "user": {
      "displayName": "Smit Jani",
      "userId": "09792803432614869044"
     },
     "user_tz": -330
    },
    "id": "toq54JbvCHjT",
    "outputId": "071736a9-3aca-41f3-bd2c-5e8052fc46c6"
   },
   "outputs": [
    {
     "data": {
      "image/png": "[encoded data removed]",
      "text/plain": [
       "<Figure size 640x480 with 1 Axes>"
      ]
     },
     "metadata": {},
     "output_type": "display_data"
    }
   ],
   "source": [
    "#Visualizing the Training Accuracy & Validation Accuracy of the above model\n",
    "plt.plot(SIG1.history['accuracy'])\n",
    "plt.plot(SIG1.history['val_accuracy'])\n",
    "plt.title('SIG1 Model Accuracy')\n",
    "plt.xlabel('No. of Epochs')\n",
    "plt.ylabel('Accuracy')\n",
    "plt.legend(['Training_Acc', 'Validation_Acc'], loc='best')\n",
    "plt.show();"
   ]
  },
  {
   "cell_type": "markdown",
   "metadata": {
    "id": "scwX9sP1DSvT"
   },
   "source": [
    "#### 3D. Design new architecture/update existing architecture in attempt to improve the performance of the model. [2 Marks]"
   ]
  },
  {
   "cell_type": "code",
   "execution_count": 19,
   "metadata": {
    "executionInfo": {
     "elapsed": 24,
     "status": "ok",
     "timestamp": 1680885776852,
     "user": {
      "displayName": "Smit Jani",
      "userId": "09792803432614869044"
     },
     "user_tz": -330
    },
    "id": "kEyZIeynSgMl"
   },
   "outputs": [],
   "source": [
    "#Designing New Model\n",
    "\n",
    "#Creating the new model \n",
    "sign = Sequential()\n",
    "sign.add(InputLayer(input_shape=(x_tr.shape[1],)))\n",
    "sign.add(BatchNormalization())\n",
    "sign.add(Dense(128, activation='relu', kernel_initializer='he_uniform'))\n",
    "sign.add(BatchNormalization())\n",
    "sign.add(Dropout(0.5))\n",
    "sign.add(Dense(64, activation='tanh', kernel_initializer='he_uniform'))\n",
    "sign.add(BatchNormalization())\n",
    "sign.add(Dropout(0.5))\n",
    "sign.add(Dense(64, activation='tanh', kernel_initializer='he_uniform'))\n",
    "sign.add(BatchNormalization())\n",
    "sign.add(Dense(6, activation='softmax'))\n",
    "\n",
    "#Compiling the model\n",
    "sign.compile(loss=losses.sparse_categorical_crossentropy, optimizer=Adam(), metrics=['accuracy'])"
   ]
  },
  {
   "cell_type": "code",
   "execution_count": 20,
   "metadata": {
    "colab": {
     "base_uri": "https://localhost:8080/"
    },
    "executionInfo": {
     "elapsed": 24,
     "status": "ok",
     "timestamp": 1680885776852,
     "user": {
      "displayName": "Smit Jani",
      "userId": "09792803432614869044"
     },
     "user_tz": -330
    },
    "id": "S_TbHZaFeV19",
    "outputId": "4fa27c4d-d447-408e-a2a6-bc3412caf905"
   },
   "outputs": [
    {
     "name": "stdout",
     "output_type": "stream",
     "text": [
      "Model: \"sequential_1\"\n",
      "_________________________________________________________________\n",
      " Layer (type)                Output Shape              Param #   \n",
      "=================================================================\n",
      " batch_normalization (BatchN  (None, 11)               44        \n",
      " ormalization)                                                   \n",
      "                                                                 \n",
      " dense_2 (Dense)             (None, 128)               1536      \n",
      "                                                                 \n",
      " batch_normalization_1 (Batc  (None, 128)              512       \n",
      " hNormalization)                                                 \n",
      "                                                                 \n",
      " dropout (Dropout)           (None, 128)               0         \n",
      "                                                                 \n",
      " dense_3 (Dense)             (None, 64)                8256      \n",
      "                                                                 \n",
      " batch_normalization_2 (Batc  (None, 64)               256       \n",
      " hNormalization)                                                 \n",
      "                                                                 \n",
      " dropout_1 (Dropout)         (None, 64)                0         \n",
      "                                                                 \n",
      " dense_4 (Dense)             (None, 64)                4160      \n",
      "                                                                 \n",
      " batch_normalization_3 (Batc  (None, 64)               256       \n",
      " hNormalization)                                                 \n",
      "                                                                 \n",
      " dense_5 (Dense)             (None, 6)                 390       \n",
      "                                                                 \n",
      "=================================================================\n",
      "Total params: 15,410\n",
      "Trainable params: 14,876\n",
      "Non-trainable params: 534\n",
      "_________________________________________________________________\n"
     ]
    }
   ],
   "source": [
    "sign.summary()"
   ]
  },
  {
   "cell_type": "code",
   "execution_count": 21,
   "metadata": {
    "colab": {
     "base_uri": "https://localhost:8080/"
    },
    "executionInfo": {
     "elapsed": 13418,
     "status": "ok",
     "timestamp": 1680885790254,
     "user": {
      "displayName": "Smit Jani",
      "userId": "09792803432614869044"
     },
     "user_tz": -330
    },
    "id": "DKz_N_E-VyIN",
    "outputId": "05f59cf6-1f0a-4642-8df6-5de5f77242de"
   },
   "outputs": [
    {
     "name": "stdout",
     "output_type": "stream",
     "text": [
      "Epoch 1/100\n",
      "8/8 - 4s - loss: 2.3748 - accuracy: 0.1924 - val_loss: 2.1296 - val_accuracy: 0.1225 - 4s/epoch - 453ms/step\n",
      "Epoch 2/100\n",
      "8/8 - 0s - loss: 2.1250 - accuracy: 0.2366 - val_loss: 1.8833 - val_accuracy: 0.2426 - 74ms/epoch - 9ms/step\n",
      "Epoch 3/100\n",
      "8/8 - 0s - loss: 1.9069 - accuracy: 0.2934 - val_loss: 1.7050 - val_accuracy: 0.3382 - 70ms/epoch - 9ms/step\n",
      "Epoch 4/100\n",
      "8/8 - 0s - loss: 1.7526 - accuracy: 0.3722 - val_loss: 1.5917 - val_accuracy: 0.3897 - 76ms/epoch - 10ms/step\n",
      "Epoch 5/100\n",
      "8/8 - 0s - loss: 1.7248 - accuracy: 0.3807 - val_loss: 1.5190 - val_accuracy: 0.4485 - 72ms/epoch - 9ms/step\n",
      "Epoch 6/100\n",
      "8/8 - 0s - loss: 1.6129 - accuracy: 0.4069 - val_loss: 1.4642 - val_accuracy: 0.4877 - 78ms/epoch - 10ms/step\n",
      "Epoch 7/100\n",
      "8/8 - 0s - loss: 1.6014 - accuracy: 0.4395 - val_loss: 1.4258 - val_accuracy: 0.5123 - 70ms/epoch - 9ms/step\n",
      "Epoch 8/100\n",
      "8/8 - 0s - loss: 1.4939 - accuracy: 0.4595 - val_loss: 1.3934 - val_accuracy: 0.5343 - 71ms/epoch - 9ms/step\n",
      "Epoch 9/100\n",
      "8/8 - 0s - loss: 1.5070 - accuracy: 0.4595 - val_loss: 1.3618 - val_accuracy: 0.5441 - 73ms/epoch - 9ms/step\n",
      "Epoch 10/100\n",
      "8/8 - 0s - loss: 1.4907 - accuracy: 0.4753 - val_loss: 1.3282 - val_accuracy: 0.5466 - 74ms/epoch - 9ms/step\n",
      "Epoch 11/100\n",
      "8/8 - 0s - loss: 1.3987 - accuracy: 0.5237 - val_loss: 1.3013 - val_accuracy: 0.5613 - 84ms/epoch - 10ms/step\n",
      "Epoch 12/100\n",
      "8/8 - 0s - loss: 1.3871 - accuracy: 0.4879 - val_loss: 1.2750 - val_accuracy: 0.5613 - 72ms/epoch - 9ms/step\n",
      "Epoch 13/100\n",
      "8/8 - 0s - loss: 1.3790 - accuracy: 0.5100 - val_loss: 1.2516 - val_accuracy: 0.5686 - 78ms/epoch - 10ms/step\n",
      "Epoch 14/100\n",
      "8/8 - 0s - loss: 1.3419 - accuracy: 0.5121 - val_loss: 1.2300 - val_accuracy: 0.5662 - 73ms/epoch - 9ms/step\n",
      "Epoch 15/100\n",
      "8/8 - 0s - loss: 1.2961 - accuracy: 0.5131 - val_loss: 1.2046 - val_accuracy: 0.5588 - 80ms/epoch - 10ms/step\n",
      "Epoch 16/100\n",
      "8/8 - 0s - loss: 1.2678 - accuracy: 0.5342 - val_loss: 1.1875 - val_accuracy: 0.5588 - 67ms/epoch - 8ms/step\n",
      "Epoch 17/100\n",
      "8/8 - 0s - loss: 1.2765 - accuracy: 0.5226 - val_loss: 1.1711 - val_accuracy: 0.5588 - 80ms/epoch - 10ms/step\n",
      "Epoch 18/100\n",
      "8/8 - 0s - loss: 1.2195 - accuracy: 0.5510 - val_loss: 1.1544 - val_accuracy: 0.5515 - 69ms/epoch - 9ms/step\n",
      "Epoch 19/100\n",
      "8/8 - 0s - loss: 1.1943 - accuracy: 0.5647 - val_loss: 1.1382 - val_accuracy: 0.5441 - 78ms/epoch - 10ms/step\n",
      "Epoch 20/100\n",
      "8/8 - 0s - loss: 1.2058 - accuracy: 0.5489 - val_loss: 1.1236 - val_accuracy: 0.5466 - 73ms/epoch - 9ms/step\n",
      "Epoch 21/100\n",
      "8/8 - 0s - loss: 1.1946 - accuracy: 0.5457 - val_loss: 1.1098 - val_accuracy: 0.5466 - 78ms/epoch - 10ms/step\n",
      "Epoch 22/100\n",
      "8/8 - 0s - loss: 1.1968 - accuracy: 0.5447 - val_loss: 1.1005 - val_accuracy: 0.5441 - 88ms/epoch - 11ms/step\n",
      "Epoch 23/100\n",
      "8/8 - 0s - loss: 1.1710 - accuracy: 0.5468 - val_loss: 1.0902 - val_accuracy: 0.5466 - 73ms/epoch - 9ms/step\n",
      "Epoch 24/100\n",
      "8/8 - 0s - loss: 1.1150 - accuracy: 0.5668 - val_loss: 1.0783 - val_accuracy: 0.5490 - 80ms/epoch - 10ms/step\n",
      "Epoch 25/100\n",
      "8/8 - 0s - loss: 1.1277 - accuracy: 0.5573 - val_loss: 1.0702 - val_accuracy: 0.5417 - 73ms/epoch - 9ms/step\n",
      "Epoch 26/100\n",
      "8/8 - 0s - loss: 1.1221 - accuracy: 0.5605 - val_loss: 1.0629 - val_accuracy: 0.5490 - 81ms/epoch - 10ms/step\n",
      "Epoch 27/100\n",
      "8/8 - 0s - loss: 1.1283 - accuracy: 0.5436 - val_loss: 1.0521 - val_accuracy: 0.5466 - 81ms/epoch - 10ms/step\n",
      "Epoch 28/100\n",
      "8/8 - 0s - loss: 1.0866 - accuracy: 0.5699 - val_loss: 1.0401 - val_accuracy: 0.5466 - 86ms/epoch - 11ms/step\n",
      "Epoch 29/100\n",
      "8/8 - 0s - loss: 1.0952 - accuracy: 0.5678 - val_loss: 1.0343 - val_accuracy: 0.5613 - 84ms/epoch - 10ms/step\n",
      "Epoch 30/100\n",
      "8/8 - 0s - loss: 1.0881 - accuracy: 0.5836 - val_loss: 1.0233 - val_accuracy: 0.5539 - 72ms/epoch - 9ms/step\n",
      "Epoch 31/100\n",
      "8/8 - 0s - loss: 1.0770 - accuracy: 0.5752 - val_loss: 1.0143 - val_accuracy: 0.5466 - 81ms/epoch - 10ms/step\n",
      "Epoch 32/100\n",
      "8/8 - 0s - loss: 1.0826 - accuracy: 0.5573 - val_loss: 1.0076 - val_accuracy: 0.5564 - 85ms/epoch - 11ms/step\n",
      "Epoch 33/100\n",
      "8/8 - 0s - loss: 1.0485 - accuracy: 0.5762 - val_loss: 1.0048 - val_accuracy: 0.5784 - 78ms/epoch - 10ms/step\n",
      "Epoch 34/100\n",
      "8/8 - 0s - loss: 1.0671 - accuracy: 0.5626 - val_loss: 0.9992 - val_accuracy: 0.5564 - 85ms/epoch - 11ms/step\n",
      "Epoch 35/100\n",
      "8/8 - 0s - loss: 1.0578 - accuracy: 0.5710 - val_loss: 0.9963 - val_accuracy: 0.5539 - 86ms/epoch - 11ms/step\n",
      "Epoch 36/100\n",
      "8/8 - 0s - loss: 1.0383 - accuracy: 0.5647 - val_loss: 0.9944 - val_accuracy: 0.5539 - 85ms/epoch - 11ms/step\n",
      "Epoch 37/100\n",
      "8/8 - 0s - loss: 1.0400 - accuracy: 0.5783 - val_loss: 0.9912 - val_accuracy: 0.5490 - 70ms/epoch - 9ms/step\n",
      "Epoch 38/100\n",
      "8/8 - 0s - loss: 1.0424 - accuracy: 0.5762 - val_loss: 0.9882 - val_accuracy: 0.5613 - 74ms/epoch - 9ms/step\n",
      "Epoch 39/100\n",
      "8/8 - 0s - loss: 1.0094 - accuracy: 0.6057 - val_loss: 0.9896 - val_accuracy: 0.5515 - 70ms/epoch - 9ms/step\n",
      "Epoch 40/100\n",
      "8/8 - 0s - loss: 1.0509 - accuracy: 0.5436 - val_loss: 0.9866 - val_accuracy: 0.5490 - 70ms/epoch - 9ms/step\n",
      "Epoch 41/100\n",
      "8/8 - 0s - loss: 1.0198 - accuracy: 0.5931 - val_loss: 0.9877 - val_accuracy: 0.5490 - 80ms/epoch - 10ms/step\n",
      "Epoch 42/100\n",
      "8/8 - 0s - loss: 1.0286 - accuracy: 0.5868 - val_loss: 0.9872 - val_accuracy: 0.5539 - 71ms/epoch - 9ms/step\n",
      "Epoch 43/100\n",
      "8/8 - 0s - loss: 1.0278 - accuracy: 0.5720 - val_loss: 0.9898 - val_accuracy: 0.5466 - 77ms/epoch - 10ms/step\n",
      "Epoch 44/100\n",
      "8/8 - 0s - loss: 1.0244 - accuracy: 0.5626 - val_loss: 0.9912 - val_accuracy: 0.5490 - 71ms/epoch - 9ms/step\n",
      "Epoch 45/100\n",
      "8/8 - 0s - loss: 1.0298 - accuracy: 0.5647 - val_loss: 0.9894 - val_accuracy: 0.5539 - 81ms/epoch - 10ms/step\n",
      "Epoch 46/100\n",
      "8/8 - 0s - loss: 1.0207 - accuracy: 0.5720 - val_loss: 0.9894 - val_accuracy: 0.5466 - 76ms/epoch - 10ms/step\n",
      "Epoch 47/100\n",
      "8/8 - 0s - loss: 1.0347 - accuracy: 0.5741 - val_loss: 0.9852 - val_accuracy: 0.5490 - 84ms/epoch - 10ms/step\n",
      "Epoch 48/100\n",
      "8/8 - 0s - loss: 1.0076 - accuracy: 0.5836 - val_loss: 0.9838 - val_accuracy: 0.5490 - 71ms/epoch - 9ms/step\n",
      "Epoch 49/100\n",
      "8/8 - 0s - loss: 1.0493 - accuracy: 0.5636 - val_loss: 0.9822 - val_accuracy: 0.5417 - 72ms/epoch - 9ms/step\n",
      "Epoch 50/100\n",
      "8/8 - 0s - loss: 1.0171 - accuracy: 0.5825 - val_loss: 0.9833 - val_accuracy: 0.5417 - 80ms/epoch - 10ms/step\n",
      "Epoch 51/100\n",
      "8/8 - 0s - loss: 1.0023 - accuracy: 0.5678 - val_loss: 0.9794 - val_accuracy: 0.5490 - 90ms/epoch - 11ms/step\n",
      "Epoch 52/100\n",
      "8/8 - 0s - loss: 0.9928 - accuracy: 0.5920 - val_loss: 0.9780 - val_accuracy: 0.5490 - 84ms/epoch - 10ms/step\n",
      "Epoch 53/100\n",
      "8/8 - 0s - loss: 0.9945 - accuracy: 0.5783 - val_loss: 0.9774 - val_accuracy: 0.5564 - 74ms/epoch - 9ms/step\n",
      "Epoch 54/100\n",
      "8/8 - 0s - loss: 1.0130 - accuracy: 0.5941 - val_loss: 0.9796 - val_accuracy: 0.5613 - 76ms/epoch - 9ms/step\n",
      "Epoch 55/100\n",
      "8/8 - 0s - loss: 1.0160 - accuracy: 0.5668 - val_loss: 0.9831 - val_accuracy: 0.5539 - 84ms/epoch - 10ms/step\n",
      "Epoch 56/100\n",
      "8/8 - 0s - loss: 0.9828 - accuracy: 0.5889 - val_loss: 0.9842 - val_accuracy: 0.5588 - 84ms/epoch - 10ms/step\n",
      "Epoch 57/100\n",
      "8/8 - 0s - loss: 1.0209 - accuracy: 0.5752 - val_loss: 0.9851 - val_accuracy: 0.5539 - 118ms/epoch - 15ms/step\n",
      "Epoch 58/100\n",
      "8/8 - 0s - loss: 0.9932 - accuracy: 0.5804 - val_loss: 0.9847 - val_accuracy: 0.5564 - 109ms/epoch - 14ms/step\n",
      "Epoch 59/100\n",
      "8/8 - 0s - loss: 1.0003 - accuracy: 0.5825 - val_loss: 0.9852 - val_accuracy: 0.5564 - 113ms/epoch - 14ms/step\n",
      "Epoch 60/100\n",
      "8/8 - 0s - loss: 0.9876 - accuracy: 0.5931 - val_loss: 0.9845 - val_accuracy: 0.5613 - 109ms/epoch - 14ms/step\n",
      "Epoch 61/100\n",
      "8/8 - 0s - loss: 0.9648 - accuracy: 0.5868 - val_loss: 0.9814 - val_accuracy: 0.5539 - 114ms/epoch - 14ms/step\n",
      "Epoch 62/100\n",
      "8/8 - 0s - loss: 0.9956 - accuracy: 0.5720 - val_loss: 0.9739 - val_accuracy: 0.5515 - 104ms/epoch - 13ms/step\n",
      "Epoch 63/100\n",
      "8/8 - 0s - loss: 0.9798 - accuracy: 0.5825 - val_loss: 0.9726 - val_accuracy: 0.5564 - 107ms/epoch - 13ms/step\n",
      "Epoch 64/100\n",
      "8/8 - 0s - loss: 1.0188 - accuracy: 0.5720 - val_loss: 0.9720 - val_accuracy: 0.5490 - 151ms/epoch - 19ms/step\n",
      "Epoch 65/100\n",
      "8/8 - 0s - loss: 0.9905 - accuracy: 0.5657 - val_loss: 0.9732 - val_accuracy: 0.5490 - 111ms/epoch - 14ms/step\n",
      "Epoch 66/100\n",
      "8/8 - 0s - loss: 0.9590 - accuracy: 0.5868 - val_loss: 0.9745 - val_accuracy: 0.5539 - 105ms/epoch - 13ms/step\n",
      "Epoch 67/100\n",
      "8/8 - 0s - loss: 0.9880 - accuracy: 0.5920 - val_loss: 0.9733 - val_accuracy: 0.5515 - 106ms/epoch - 13ms/step\n",
      "Epoch 68/100\n",
      "8/8 - 0s - loss: 0.9713 - accuracy: 0.5836 - val_loss: 0.9714 - val_accuracy: 0.5637 - 118ms/epoch - 15ms/step\n",
      "Epoch 69/100\n",
      "8/8 - 0s - loss: 0.9886 - accuracy: 0.5878 - val_loss: 0.9718 - val_accuracy: 0.5662 - 108ms/epoch - 14ms/step\n",
      "Epoch 70/100\n",
      "8/8 - 0s - loss: 0.9772 - accuracy: 0.5773 - val_loss: 0.9719 - val_accuracy: 0.5613 - 104ms/epoch - 13ms/step\n",
      "Epoch 71/100\n",
      "8/8 - 0s - loss: 0.9828 - accuracy: 0.5762 - val_loss: 0.9740 - val_accuracy: 0.5686 - 104ms/epoch - 13ms/step\n",
      "Epoch 72/100\n",
      "8/8 - 0s - loss: 0.9773 - accuracy: 0.5846 - val_loss: 0.9729 - val_accuracy: 0.5637 - 105ms/epoch - 13ms/step\n",
      "Epoch 73/100\n",
      "8/8 - 0s - loss: 0.9716 - accuracy: 0.5815 - val_loss: 0.9706 - val_accuracy: 0.5662 - 120ms/epoch - 15ms/step\n",
      "Epoch 74/100\n",
      "8/8 - 0s - loss: 0.9913 - accuracy: 0.5710 - val_loss: 0.9705 - val_accuracy: 0.5711 - 113ms/epoch - 14ms/step\n",
      "Epoch 75/100\n",
      "8/8 - 0s - loss: 0.9637 - accuracy: 0.5815 - val_loss: 0.9728 - val_accuracy: 0.5686 - 109ms/epoch - 14ms/step\n",
      "Epoch 76/100\n",
      "8/8 - 0s - loss: 0.9749 - accuracy: 0.5973 - val_loss: 0.9724 - val_accuracy: 0.5735 - 113ms/epoch - 14ms/step\n",
      "Epoch 77/100\n",
      "8/8 - 0s - loss: 0.9888 - accuracy: 0.5868 - val_loss: 0.9686 - val_accuracy: 0.5809 - 104ms/epoch - 13ms/step\n",
      "Epoch 78/100\n",
      "8/8 - 0s - loss: 0.9848 - accuracy: 0.5931 - val_loss: 0.9680 - val_accuracy: 0.5686 - 105ms/epoch - 13ms/step\n",
      "Epoch 79/100\n",
      "8/8 - 0s - loss: 0.9937 - accuracy: 0.5668 - val_loss: 0.9653 - val_accuracy: 0.5711 - 107ms/epoch - 13ms/step\n",
      "Epoch 80/100\n",
      "8/8 - 0s - loss: 0.9684 - accuracy: 0.5836 - val_loss: 0.9664 - val_accuracy: 0.5760 - 107ms/epoch - 13ms/step\n",
      "Epoch 81/100\n",
      "8/8 - 0s - loss: 0.9603 - accuracy: 0.5910 - val_loss: 0.9688 - val_accuracy: 0.5809 - 98ms/epoch - 12ms/step\n",
      "Epoch 82/100\n",
      "8/8 - 0s - loss: 0.9737 - accuracy: 0.5983 - val_loss: 0.9693 - val_accuracy: 0.5760 - 154ms/epoch - 19ms/step\n",
      "Epoch 83/100\n",
      "8/8 - 0s - loss: 0.9672 - accuracy: 0.6215 - val_loss: 0.9690 - val_accuracy: 0.5858 - 112ms/epoch - 14ms/step\n",
      "Epoch 84/100\n",
      "8/8 - 0s - loss: 0.9710 - accuracy: 0.5899 - val_loss: 0.9687 - val_accuracy: 0.5833 - 116ms/epoch - 14ms/step\n",
      "Epoch 85/100\n",
      "8/8 - 0s - loss: 0.9650 - accuracy: 0.5836 - val_loss: 0.9663 - val_accuracy: 0.5711 - 116ms/epoch - 15ms/step\n",
      "Epoch 86/100\n",
      "8/8 - 0s - loss: 0.9710 - accuracy: 0.5804 - val_loss: 0.9600 - val_accuracy: 0.5735 - 73ms/epoch - 9ms/step\n",
      "Epoch 87/100\n",
      "8/8 - 0s - loss: 0.9818 - accuracy: 0.5720 - val_loss: 0.9583 - val_accuracy: 0.5735 - 72ms/epoch - 9ms/step\n",
      "Epoch 88/100\n",
      "8/8 - 0s - loss: 0.9859 - accuracy: 0.5731 - val_loss: 0.9556 - val_accuracy: 0.5735 - 72ms/epoch - 9ms/step\n",
      "Epoch 89/100\n",
      "8/8 - 0s - loss: 0.9736 - accuracy: 0.5994 - val_loss: 0.9545 - val_accuracy: 0.5686 - 70ms/epoch - 9ms/step\n",
      "Epoch 90/100\n",
      "8/8 - 0s - loss: 0.9638 - accuracy: 0.5941 - val_loss: 0.9531 - val_accuracy: 0.5760 - 72ms/epoch - 9ms/step\n",
      "Epoch 91/100\n",
      "8/8 - 0s - loss: 0.9615 - accuracy: 0.5783 - val_loss: 0.9523 - val_accuracy: 0.5784 - 71ms/epoch - 9ms/step\n",
      "Epoch 92/100\n",
      "8/8 - 0s - loss: 0.9443 - accuracy: 0.5920 - val_loss: 0.9518 - val_accuracy: 0.5784 - 80ms/epoch - 10ms/step\n",
      "Epoch 93/100\n",
      "8/8 - 0s - loss: 0.9743 - accuracy: 0.5836 - val_loss: 0.9540 - val_accuracy: 0.5735 - 80ms/epoch - 10ms/step\n",
      "Epoch 94/100\n",
      "8/8 - 0s - loss: 0.9684 - accuracy: 0.5846 - val_loss: 0.9558 - val_accuracy: 0.5735 - 85ms/epoch - 11ms/step\n",
      "Epoch 95/100\n",
      "8/8 - 0s - loss: 0.9689 - accuracy: 0.5762 - val_loss: 0.9548 - val_accuracy: 0.5686 - 96ms/epoch - 12ms/step\n",
      "Epoch 96/100\n",
      "8/8 - 0s - loss: 0.9465 - accuracy: 0.5973 - val_loss: 0.9546 - val_accuracy: 0.5711 - 82ms/epoch - 10ms/step\n",
      "Epoch 97/100\n",
      "8/8 - 0s - loss: 0.9954 - accuracy: 0.5815 - val_loss: 0.9543 - val_accuracy: 0.5760 - 72ms/epoch - 9ms/step\n",
      "Epoch 98/100\n",
      "8/8 - 0s - loss: 0.9426 - accuracy: 0.5773 - val_loss: 0.9527 - val_accuracy: 0.5809 - 75ms/epoch - 9ms/step\n",
      "Epoch 99/100\n",
      "8/8 - 0s - loss: 0.9804 - accuracy: 0.5857 - val_loss: 0.9537 - val_accuracy: 0.5735 - 82ms/epoch - 10ms/step\n",
      "Epoch 100/100\n",
      "8/8 - 0s - loss: 0.9447 - accuracy: 0.6141 - val_loss: 0.9565 - val_accuracy: 0.5735 - 73ms/epoch - 9ms/step\n"
     ]
    }
   ],
   "source": [
    "#Fittig the model\n",
    "SIGN = sign.fit(x_tr, y_tr, epochs=100, verbose=2, validation_data=(x_te, y_te), batch_size=128)"
   ]
  },
  {
   "cell_type": "code",
   "execution_count": 22,
   "metadata": {
    "colab": {
     "base_uri": "https://localhost:8080/"
    },
    "executionInfo": {
     "elapsed": 12,
     "status": "ok",
     "timestamp": 1680885790255,
     "user": {
      "displayName": "Smit Jani",
      "userId": "09792803432614869044"
     },
     "user_tz": -330
    },
    "id": "P0pcvZlMibLx",
    "outputId": "39c50afa-7d85-4e23-8c82-47fe722c3595"
   },
   "outputs": [
    {
     "name": "stdout",
     "output_type": "stream",
     "text": [
      "13/13 [==============================] - 0s 4ms/step - loss: 0.9565 - accuracy: 0.5735\n",
      "The Accuracy of the updated model is: 0.5735294222831726\n"
     ]
    }
   ],
   "source": [
    "loss_sign, accuracy_sign = sign.evaluate(x_te, y_te, verbose=1)\n",
    "print('The Accuracy of the updated model is:', accuracy_sign)"
   ]
  },
  {
   "cell_type": "markdown",
   "metadata": {
    "id": "GdfA7MmPN-F0"
   },
   "source": [
    "#### 3E. Plot visuals as in Q3.C and share insights about difference observed in both the models. [3 Marks]"
   ]
  },
  {
   "cell_type": "markdown",
   "metadata": {
    "id": "D6yU_e2BgtCs"
   },
   "source": [
    "##### Visualizing Training Loss vs Validation Loss of the above updated model"
   ]
  },
  {
   "cell_type": "code",
   "execution_count": 23,
   "metadata": {
    "colab": {
     "base_uri": "https://localhost:8080/",
     "height": 472
    },
    "executionInfo": {
     "elapsed": 7,
     "status": "ok",
     "timestamp": 1680885790256,
     "user": {
      "displayName": "Smit Jani",
      "userId": "09792803432614869044"
     },
     "user_tz": -330
    },
    "id": "GmGLLybQGFwp",
    "outputId": "d454136f-c813-4ac9-ca37-5bd094e9cb2f"
   },
   "outputs": [
    {
     "data": {
      "image/png": "[encoded data removed]",
      "text/plain": [
       "<Figure size 640x480 with 1 Axes>"
      ]
     },
     "metadata": {},
     "output_type": "display_data"
    }
   ],
   "source": [
    "#Visualizing the Training loss & Validation loss of the updated model\n",
    "plt.plot(SIGN.history['loss'])\n",
    "plt.plot(SIGN.history['val_loss'])\n",
    "plt.title('Model Loss')\n",
    "plt.xlabel('Epochs')\n",
    "plt.ylabel('Loss')\n",
    "plt.legend(['Training_Loss', 'Validation_Loss'], loc='best')\n",
    "plt.show();"
   ]
  },
  {
   "cell_type": "markdown",
   "metadata": {
    "id": "5Zk9y_cwhSMy"
   },
   "source": [
    "##### Visualizing Training Accuracy vs Validation Accuracy of the updated model."
   ]
  },
  {
   "cell_type": "code",
   "execution_count": 24,
   "metadata": {
    "colab": {
     "base_uri": "https://localhost:8080/",
     "height": 472
    },
    "executionInfo": {
     "elapsed": 14,
     "status": "ok",
     "timestamp": 1680885790970,
     "user": {
      "displayName": "Smit Jani",
      "userId": "09792803432614869044"
     },
     "user_tz": -330
    },
    "id": "l3in7Y0JhbSF",
    "outputId": "cc10e0e4-8878-4f48-e1bd-22b353d437c0"
   },
   "outputs": [
    {
     "data": {
      "image/png": "[encoded data removed]",
      "text/plain": [
       "<Figure size 640x480 with 1 Axes>"
      ]
     },
     "metadata": {},
     "output_type": "display_data"
    }
   ],
   "source": [
    "#Visualizing the Training accuracy & Validation accuracy of the updated model\n",
    "plt.plot(SIGN.history['accuracy'])\n",
    "plt.plot(SIGN.history['val_accuracy'])\n",
    "plt.title('Model Accuracy')\n",
    "plt.xlabel('Epochs')\n",
    "plt.ylabel('Accuracy')\n",
    "plt.legend(['Training_Accuracy', 'Validation_Accuracy'], loc='best')\n",
    "plt.show();"
   ]
  },
  {
   "cell_type": "code",
   "execution_count": 25,
   "metadata": {
    "colab": {
     "base_uri": "https://localhost:8080/"
    },
    "executionInfo": {
     "elapsed": 13,
     "status": "ok",
     "timestamp": 1680885790971,
     "user": {
      "displayName": "Smit Jani",
      "userId": "09792803432614869044"
     },
     "user_tz": -330
    },
    "id": "GLafEVi1s1Ko",
    "outputId": "feee7592-642f-42a7-f8b1-736f4101ab76"
   },
   "outputs": [
    {
     "name": "stdout",
     "output_type": "stream",
     "text": [
      "13/13 [==============================] - 0s 2ms/step\n",
      "13/13 [==============================] - 0s 2ms/step\n",
      "\n",
      "\n",
      "Classification Report of Model1:\n",
      "               precision    recall  f1-score   support\n",
      "\n",
      "           0       0.00      0.00      0.00         3\n",
      "           1       0.00      0.00      0.00        16\n",
      "           2       0.43      0.62      0.51       173\n",
      "           3       0.40      0.38      0.39       161\n",
      "           4       0.00      0.00      0.00        50\n",
      "           5       0.00      0.00      0.00         5\n",
      "\n",
      "    accuracy                           0.41       408\n",
      "   macro avg       0.14      0.17      0.15       408\n",
      "weighted avg       0.34      0.41      0.37       408\n",
      " \n",
      "\n",
      "Classification Report of Updated Model:\n",
      "               precision    recall  f1-score   support\n",
      "\n",
      "           0       0.00      0.00      0.00         3\n",
      "           1       0.20      0.06      0.10        16\n",
      "           2       0.65      0.76      0.70       173\n",
      "           3       0.54      0.53      0.53       161\n",
      "           4       0.38      0.32      0.35        50\n",
      "           5       0.00      0.00      0.00         5\n",
      "\n",
      "    accuracy                           0.57       408\n",
      "   macro avg       0.29      0.28      0.28       408\n",
      "weighted avg       0.54      0.57      0.55       408\n",
      "\n"
     ]
    }
   ],
   "source": [
    "#Predicting the values\n",
    "y_pred_sig1 = sig1.predict(x_te)\n",
    "y_pred_sig1_fin = []\n",
    "for i in y_pred_sig1:\n",
    "  y_pred_sig1_fin.append(np.argmax(i))\n",
    "\n",
    "y_pred_sign = sign.predict(x_te)\n",
    "y_pred_sign_fin = []\n",
    "for i in y_pred_sign:\n",
    "  y_pred_sign_fin.append(np.argmax(i))\n",
    "\n",
    "print('\\n')\n",
    "#Printing the Classification Report\n",
    "print('Classification Report of Model1:\\n', classification_report(y_te, y_pred_sig1_fin), '\\n')\n",
    "print('Classification Report of Updated Model:\\n', classification_report(y_te, y_pred_sign_fin))"
   ]
  },
  {
   "cell_type": "code",
   "execution_count": 26,
   "metadata": {
    "colab": {
     "base_uri": "https://localhost:8080/",
     "height": 112
    },
    "executionInfo": {
     "elapsed": 9,
     "status": "ok",
     "timestamp": 1680885790971,
     "user": {
      "displayName": "Smit Jani",
      "userId": "09792803432614869044"
     },
     "user_tz": -330
    },
    "id": "qHWq4KjPrLvL",
    "outputId": "475bfaf0-f68d-4d7c-85e1-f75c05b4664f"
   },
   "outputs": [
    {
     "data": {
      "text/html": [
       "\n",
       "  <div id=\"df-13e09cd8-3cdc-486b-931a-79ee22d89416\">\n",
       "    <div class=\"colab-df-container\">\n",
       "      <div>\n",
       "<style scoped>\n",
       "    .dataframe tbody tr th:only-of-type {\n",
       "        vertical-align: middle;\n",
       "    }\n",
       "\n",
       "    .dataframe tbody tr th {\n",
       "        vertical-align: top;\n",
       "    }\n",
       "\n",
       "    .dataframe thead th {\n",
       "        text-align: right;\n",
       "    }\n",
       "</style>\n",
       "<table border=\"1\" class=\"dataframe\">\n",
       "  <thead>\n",
       "    <tr style=\"text-align: right;\">\n",
       "      <th></th>\n",
       "      <th>Model_Name</th>\n",
       "      <th>Loss</th>\n",
       "      <th>Accuracy</th>\n",
       "    </tr>\n",
       "  </thead>\n",
       "  <tbody>\n",
       "    <tr>\n",
       "      <th>0</th>\n",
       "      <td>Model1</td>\n",
       "      <td>1.591322</td>\n",
       "      <td>0.411765</td>\n",
       "    </tr>\n",
       "    <tr>\n",
       "      <th>1</th>\n",
       "      <td>Updated_Model</td>\n",
       "      <td>0.956498</td>\n",
       "      <td>0.573529</td>\n",
       "    </tr>\n",
       "  </tbody>\n",
       "</table>\n",
       "</div>\n",
       "      <button class=\"colab-df-convert\" onclick=\"convertToInteractive('df-13e09cd8-3cdc-486b-931a-79ee22d89416')\"\n",
       "              title=\"Convert this dataframe to an interactive table.\"\n",
       "              style=\"display:none;\">\n",
       "        \n",
       "  <svg xmlns=\"http://www.w3.org/2000/svg\" height=\"24px\"viewBox=\"0 0 24 24\"\n",
       "       width=\"24px\">\n",
       "    <path d=\"M0 0h24v24H0V0z\" fill=\"none\"/>\n",
       "    <path d=\"M18.56 5.44l.94 2.06.94-2.06 2.06-.94-2.06-.94-.94-2.06-.94 2.06-2.06.94zm-11 1L8.5 8.5l.94-2.06 2.06-.94-2.06-.94L8.5 2.5l-.94 2.06-2.06.94zm10 10l.94 2.06.94-2.06 2.06-.94-2.06-.94-.94-2.06-.94 2.06-2.06.94z\"/><path d=\"M17.41 7.96l-1.37-1.37c-.4-.4-.92-.59-1.43-.59-.52 0-1.04.2-1.43.59L10.3 9.45l-7.72 7.72c-.78.78-.78 2.05 0 2.83L4 21.41c.39.39.9.59 1.41.59.51 0 1.02-.2 1.41-.59l7.78-7.78 2.81-2.81c.8-.78.8-2.07 0-2.86zM5.41 20L4 18.59l7.72-7.72 1.47 1.35L5.41 20z\"/>\n",
       "  </svg>\n",
       "      </button>\n",
       "      \n",
       "  <style>\n",
       "    .colab-df-container {\n",
       "      display:flex;\n",
       "      flex-wrap:wrap;\n",
       "      gap: 12px;\n",
       "    }\n",
       "\n",
       "    .colab-df-convert {\n",
       "      background-color: #E8F0FE;\n",
       "      border: none;\n",
       "      border-radius: 50%;\n",
       "      cursor: pointer;\n",
       "      display: none;\n",
       "      fill: #1967D2;\n",
       "      height: 32px;\n",
       "      padding: 0 0 0 0;\n",
       "      width: 32px;\n",
       "    }\n",
       "\n",
       "    .colab-df-convert:hover {\n",
       "      background-color: #E2EBFA;\n",
       "      box-shadow: 0px 1px 2px rgba(60, 64, 67, 0.3), 0px 1px 3px 1px rgba(60, 64, 67, 0.15);\n",
       "      fill: #174EA6;\n",
       "    }\n",
       "\n",
       "    [theme=dark] .colab-df-convert {\n",
       "      background-color: #3B4455;\n",
       "      fill: #D2E3FC;\n",
       "    }\n",
       "\n",
       "    [theme=dark] .colab-df-convert:hover {\n",
       "      background-color: #434B5C;\n",
       "      box-shadow: 0px 1px 3px 1px rgba(0, 0, 0, 0.15);\n",
       "      filter: drop-shadow(0px 1px 2px rgba(0, 0, 0, 0.3));\n",
       "      fill: #FFFFFF;\n",
       "    }\n",
       "  </style>\n",
       "\n",
       "      <script>\n",
       "        const buttonEl =\n",
       "          document.querySelector('#df-13e09cd8-3cdc-486b-931a-79ee22d89416 button.colab-df-convert');\n",
       "        buttonEl.style.display =\n",
       "          google.colab.kernel.accessAllowed ? 'block' : 'none';\n",
       "\n",
       "        async function convertToInteractive(key) {\n",
       "          const element = document.querySelector('#df-13e09cd8-3cdc-486b-931a-79ee22d89416');\n",
       "          const dataTable =\n",
       "            await google.colab.kernel.invokeFunction('convertToInteractive',\n",
       "                                                     [key], {});\n",
       "          if (!dataTable) return;\n",
       "\n",
       "          const docLinkHtml = 'Like what you see? Visit the ' +\n",
       "            '<a target=\"_blank\" href=https://colab.research.google.com/notebooks/data_table.ipynb>data table notebook</a>'\n",
       "            + ' to learn more about interactive tables.';\n",
       "          element.innerHTML = '';\n",
       "          dataTable['output_type'] = 'display_data';\n",
       "          await google.colab.output.renderOutput(dataTable, element);\n",
       "          const docLink = document.createElement('div');\n",
       "          docLink.innerHTML = docLinkHtml;\n",
       "          element.appendChild(docLink);\n",
       "        }\n",
       "      </script>\n",
       "    </div>\n",
       "  </div>\n",
       "  "
      ],
      "text/plain": [
       "      Model_Name      Loss  Accuracy\n",
       "0         Model1  1.591322  0.411765\n",
       "1  Updated_Model  0.956498  0.573529"
      ]
     },
     "execution_count": 26,
     "metadata": {},
     "output_type": "execute_result"
    }
   ],
   "source": [
    "#Comparing both the model\n",
    "sig_comp = pd.DataFrame({'Model_Name':['Model1', 'Updated_Model'], 'Loss':[loss1, loss_sign], 'Accuracy':[accuracy1, accuracy_sign]})\n",
    "sig_comp"
   ]
  },
  {
   "cell_type": "markdown",
   "metadata": {
    "id": "UPEbL8GCshaP"
   },
   "source": [
    "#### Observations:\n",
    "- Here we see that the accuracy of the model is not very much high.\n",
    "- But on the contrary, the updated model has significant improvement over the previous model.\n",
    "- Further the point to be noted is that the dataset is very small which doesnot help in training the model.\n",
    "- Also the dataset is highly imbalanced which affects the performance of the model.\n",
    "- Hence even though applying all the parameters, accuracy cannot be improved as the model cannot train on scarce data."
   ]
  }
 ],
 "metadata": {
  "accelerator": "GPU",
  "colab": {
   "authorship_tag": "ABX9TyNKGTlDGdKwMnK6X5enNo+N",
   "mount_file_id": "1ZGG1mC2xzo8b_jy0s1SM2Ra-OjQ2uWn6",
   "provenance": []
  },
  "gpuClass": "standard",
  "kernelspec": {
   "display_name": "Python 3 (ipykernel)",
   "language": "python",
   "name": "python3"
  },
  "language_info": {
   "codemirror_mode": {
    "name": "ipython",
    "version": 3
   },
   "file_extension": ".py",
   "mimetype": "text/x-python",
   "name": "python",
   "nbconvert_exporter": "python",
   "pygments_lexer": "ipython3",
   "version": "3.9.12"
  }
 },
 "nbformat": 4,
 "nbformat_minor": 1
}
